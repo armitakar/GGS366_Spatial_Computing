{
  "nbformat": 4,
  "nbformat_minor": 0,
  "metadata": {
    "colab": {
      "provenance": [],
      "authorship_tag": "ABX9TyPQyehHJMnWR/UjbxtZ99uS",
      "include_colab_link": true
    },
    "kernelspec": {
      "name": "python3",
      "display_name": "Python 3"
    },
    "language_info": {
      "name": "python"
    }
  },
  "cells": [
    {
      "cell_type": "markdown",
      "metadata": {
        "id": "view-in-github",
        "colab_type": "text"
      },
      "source": [
        "<a href=\"https://colab.research.google.com/github/armitakar/GGS366_Spatial_Computing/blob/main/Lectures/4_1_Control_flow_structures_Conditional_statements.ipynb\" target=\"_parent\"><img src=\"https://colab.research.google.com/assets/colab-badge.svg\" alt=\"Open In Colab\"/></a>"
      ]
    },
    {
      "cell_type": "markdown",
      "source": [
        "Control flow structures determine the order in which code is executed. It makes the code more functional and dynamic by adapting to different conditions and repeating the code blocks.\n",
        "\n",
        "The key control flow structures in Python include:\n",
        "\n",
        "- Conditional Statements (if, elif, else) – Allow decisions based on conditions.\n",
        "- Loops (for, while) – Enable repeated execution of code blocks.\n",
        "- Loop Control Statements (break, continue, pass) – Modify the behavior of loops.\n",
        "\n",
        "Moreover, we use boolean and comparison operators (and, or, not, ==, !=, etc.) and different built-in functions (e.g., the range() function) as well as user defined functions within control flow structures to define conditions for decision-making and iteration."
      ],
      "metadata": {
        "id": "BfCx8_oLccvP"
      }
    },
    {
      "cell_type": "markdown",
      "source": [
        "# Comparison and Boolean operators"
      ],
      "metadata": {
        "id": "yYTHpMQDeR1F"
      }
    },
    {
      "cell_type": "markdown",
      "source": [
        "Comparison (also known as relational) operators are used to evaluate expressions and determine whether they are true or false. They perform simple queries, such as checking whether a variable is equal to a specific value or comparing it to another value. The following are common comparison operators:\n",
        "\n",
        "- Equal to: ==\n",
        "- Not equal to: !=\n",
        "- Greater than: >\n",
        "- Less than: <\n",
        "- Greater than or equal to: >=\n",
        "- Less than or equal to: <="
      ],
      "metadata": {
        "id": "UpHsw88eeaZN"
      }
    },
    {
      "cell_type": "code",
      "source": [
        "age = 25\n",
        "print(age == 25)  # True (age is equal to 25)\n",
        "print(age != 25)  # False (age is not equal to 25)"
      ],
      "metadata": {
        "colab": {
          "base_uri": "https://localhost:8080/"
        },
        "id": "3Bs_w8FUByBD",
        "outputId": "b5bbdc21-6590-4abb-b8e2-4e3f901141f6"
      },
      "execution_count": 4,
      "outputs": [
        {
          "output_type": "stream",
          "name": "stdout",
          "text": [
            "True\n",
            "False\n"
          ]
        }
      ]
    },
    {
      "cell_type": "code",
      "source": [
        "course_name = \"GGS 366\"\n",
        "course_code = int(course_name[4:])\n",
        "print(course_code)  # print course code\n",
        "print(course_code <= 500)  # True (check if it's a 500 level course)"
      ],
      "metadata": {
        "colab": {
          "base_uri": "https://localhost:8080/"
        },
        "id": "yk7AFg2SyVHq",
        "outputId": "6d22455c-b562-4361-be02-9c9183b74be2"
      },
      "execution_count": 5,
      "outputs": [
        {
          "output_type": "stream",
          "name": "stdout",
          "text": [
            "366\n",
            "True\n"
          ]
        }
      ]
    },
    {
      "cell_type": "code",
      "source": [
        "dept_name = course_name[:3]\n",
        "print(dept_name)  # print department name\n",
        "print(dept_name == \"ENGR\")   # False (check if it's an engeneering course)"
      ],
      "metadata": {
        "colab": {
          "base_uri": "https://localhost:8080/"
        },
        "id": "9ch4P0AwyYw7",
        "outputId": "856f204a-f8a9-4c65-fe06-25ac4433c6b9"
      },
      "execution_count": 6,
      "outputs": [
        {
          "output_type": "stream",
          "name": "stdout",
          "text": [
            "GGS\n",
            "False\n"
          ]
        }
      ]
    },
    {
      "cell_type": "markdown",
      "source": [
        "To perform more complex queries involving multiple conditions, we use boolean operators. These allow us to combine multiple expressions, such as checking whether a variable falls within a specific range. The main boolean operators in Python are:\n",
        "\n",
        "- and – Returns True if both conditions are true.\n",
        "- or – Returns True if at least one condition is true.\n",
        "- not – Reverses the truth value of a condition"
      ],
      "metadata": {
        "id": "A49cVK-TCznE"
      }
    },
    {
      "cell_type": "code",
      "source": [
        "temperature = 75\n",
        "is_sunny = True\n",
        "\n",
        "# Check if temperature is between 60 and 80\n",
        "print(temperature > 60 and temperature < 80)  # True\n",
        "\n",
        "# Check if it's sunny OR the temperature is greater than 80\n",
        "print(is_sunny or temperature > 80)  # True\n",
        "\n",
        "# Check if it's NOT hot (temperature not above 50)\n",
        "print(not (temperature > 50))  # False"
      ],
      "metadata": {
        "colab": {
          "base_uri": "https://localhost:8080/"
        },
        "id": "1-xBxBgaFBky",
        "outputId": "d610ba48-e549-46ee-fdd1-c93e89613ab2"
      },
      "execution_count": 8,
      "outputs": [
        {
          "output_type": "stream",
          "name": "stdout",
          "text": [
            "True\n",
            "True\n",
            "False\n"
          ]
        }
      ]
    },
    {
      "cell_type": "markdown",
      "source": [
        "# Conditional statements"
      ],
      "metadata": {
        "id": "AjiklBqmFZAl"
      }
    },
    {
      "cell_type": "markdown",
      "source": [
        "Conditional statements allow us to make decisions and execute specific actions based on conditions. The most common conditional statements in Python are if, elif, and else.\n",
        "\n",
        "- **if Statement:** Used to test an independent condition. If the condition is true, Python executes the associated block of code.\n",
        "- **elif Statement:** Short for \"else if.\" It provides an alternative condition to evaluate if the previous if condition was false. If the elif condition is true, Python executes the corresponding block of code.\n",
        "- **else Statement:** Serves as a fallback. If none of the preceding if or elif conditions are met, Python executes this block of code.\n",
        "\n",
        "![image](https://www.scientecheasy.com/wp-content/uploads/2022/10/flowchart-if-elif-else.png)\n",
        "\n",
        "Image source: https://www.scientecheasy.com/2022/10/python-if-elif-else.html/"
      ],
      "metadata": {
        "id": "SUzmdNisFcoY"
      }
    },
    {
      "cell_type": "markdown",
      "source": [
        "For instance, the National Weather Service (NWS) has classified heat index values (also known as the \"feels-like\" temperature) into four risk categories based on their effects on the human body. We can write a function that asks users to provide a heat index value and returns the corresponding risk classification along with a message indicating whether it is safe to go outside.\n",
        "\n",
        "\n",
        "![image](https://www.weather.gov/images/tbw/heat/NWSHeatIndexChart_Legend.png)\n",
        "Source: https://www.weather.gov/tbw/heat"
      ],
      "metadata": {
        "id": "c1Je4aOMKJcy"
      }
    },
    {
      "cell_type": "code",
      "source": [
        "### defining the function\n",
        "def classify_heat_index():\n",
        "    \"\"\"\n",
        "    Classifies the heat index value into risk categories and provides safety advice.\n",
        "\n",
        "    Returns:\n",
        "        str: Risk category and safety message.\n",
        "    \"\"\"\n",
        "    heat_index = int(input(\"Enter today's heat index value: \"))\n",
        "\n",
        "    if heat_index < 80:\n",
        "        category = \"Caution\"\n",
        "        message = \"It's generally safe to go outside, but stay hydrated.\"\n",
        "    elif 80 <= heat_index < 90:\n",
        "        category = \"Moderate Risk\"\n",
        "        message = \"It may feel warm. Take breaks in the shade and drink water.\"\n",
        "    elif 90 <= heat_index < 103:\n",
        "        category = \"High Risk\"\n",
        "        message = \"Prolonged exposure can lead to heat-related illness. Limit outdoor activities.\"\n",
        "    elif 103 <= heat_index < 125:\n",
        "        category = \"Extreme Risk\"\n",
        "        message = \"Heat exhaustion or heat stroke is possible. Avoid outdoor activities.\"\n",
        "    else:\n",
        "        category = \"Dangerous\"\n",
        "        message = \"Extreme heat conditions! Stay indoors and stay cool.\"\n",
        "\n",
        "    return f\"Risk Level: {category}\", f\"Advice: {message}\"\n",
        "\n",
        "### calling the function\n",
        "classify_heat_index()"
      ],
      "metadata": {
        "colab": {
          "base_uri": "https://localhost:8080/"
        },
        "id": "HNhCUaWtI72B",
        "outputId": "eee72b7f-9b7a-4675-9071-d87c5f73679d"
      },
      "execution_count": 13,
      "outputs": [
        {
          "name": "stdout",
          "output_type": "stream",
          "text": [
            "Enter today's heat index value: 98\n"
          ]
        },
        {
          "output_type": "execute_result",
          "data": {
            "text/plain": [
              "('Risk Level: High Risk',\n",
              " 'Advice: Prolonged exposure can lead to heat-related illness. Limit outdoor activities.')"
            ]
          },
          "metadata": {},
          "execution_count": 13
        }
      ]
    },
    {
      "cell_type": "markdown",
      "source": [
        "In the code above, if you enter a non-numeric value (such as a string), Python will raise an error because it expects a numerical input. To prevent such errors and guide users to enter valid inputs, we can use a **try-except statement**. This allows us to handle invalid inputs gracefully by displaying an error message instead of crashing."
      ],
      "metadata": {
        "id": "4TG5TrYlM_-N"
      }
    },
    {
      "cell_type": "code",
      "source": [
        "try:\n",
        "    print(classify_heat_index()) # try calling the function and print the respective message\n",
        "except ValueError:\n",
        "    print(\"Invalid input. Please enter a numerical value.\") # if there's a value error, print this message and try again\n",
        "    print(classify_heat_index())\n",
        ""
      ],
      "metadata": {
        "colab": {
          "base_uri": "https://localhost:8080/",
          "height": 476
        },
        "id": "LnEbSkulNlLm",
        "outputId": "b891bb71-949d-40aa-8044-1ec8c64d98a4"
      },
      "execution_count": 12,
      "outputs": [
        {
          "name": "stdout",
          "output_type": "stream",
          "text": [
            "Enter today's heat index value: hot\n",
            "Invalid input. Please enter a numerical value.\n",
            "Enter today's heat index value: extreme hot\n"
          ]
        },
        {
          "output_type": "error",
          "ename": "ValueError",
          "evalue": "invalid literal for int() with base 10: 'extreme hot'",
          "traceback": [
            "\u001b[0;31m---------------------------------------------------------------------------\u001b[0m",
            "\u001b[0;31mValueError\u001b[0m                                Traceback (most recent call last)",
            "\u001b[0;32m<ipython-input-12-1f315d4ba47a>\u001b[0m in \u001b[0;36m<cell line: 0>\u001b[0;34m()\u001b[0m\n\u001b[1;32m      1\u001b[0m \u001b[0;32mtry\u001b[0m\u001b[0;34m:\u001b[0m\u001b[0;34m\u001b[0m\u001b[0;34m\u001b[0m\u001b[0m\n\u001b[0;32m----> 2\u001b[0;31m     \u001b[0mprint\u001b[0m\u001b[0;34m(\u001b[0m\u001b[0mclassify_heat_index\u001b[0m\u001b[0;34m(\u001b[0m\u001b[0;34m)\u001b[0m\u001b[0;34m)\u001b[0m \u001b[0;31m# try calling the function and print the respective message\u001b[0m\u001b[0;34m\u001b[0m\u001b[0;34m\u001b[0m\u001b[0m\n\u001b[0m\u001b[1;32m      3\u001b[0m \u001b[0;32mexcept\u001b[0m \u001b[0mValueError\u001b[0m\u001b[0;34m:\u001b[0m\u001b[0;34m\u001b[0m\u001b[0;34m\u001b[0m\u001b[0m\n",
            "\u001b[0;32m<ipython-input-10-f35fb2af4a8a>\u001b[0m in \u001b[0;36mclassify_heat_index\u001b[0;34m()\u001b[0m\n\u001b[1;32m      8\u001b[0m     \"\"\"\n\u001b[0;32m----> 9\u001b[0;31m     \u001b[0mheat_index\u001b[0m \u001b[0;34m=\u001b[0m \u001b[0mint\u001b[0m\u001b[0;34m(\u001b[0m\u001b[0minput\u001b[0m\u001b[0;34m(\u001b[0m\u001b[0;34m\"Enter today's heat index value: \"\u001b[0m\u001b[0;34m)\u001b[0m\u001b[0;34m)\u001b[0m\u001b[0;34m\u001b[0m\u001b[0;34m\u001b[0m\u001b[0m\n\u001b[0m\u001b[1;32m     10\u001b[0m \u001b[0;34m\u001b[0m\u001b[0m\n",
            "\u001b[0;31mValueError\u001b[0m: invalid literal for int() with base 10: 'hot'",
            "\nDuring handling of the above exception, another exception occurred:\n",
            "\u001b[0;31mValueError\u001b[0m                                Traceback (most recent call last)",
            "\u001b[0;32m<ipython-input-12-1f315d4ba47a>\u001b[0m in \u001b[0;36m<cell line: 0>\u001b[0;34m()\u001b[0m\n\u001b[1;32m      3\u001b[0m \u001b[0;32mexcept\u001b[0m \u001b[0mValueError\u001b[0m\u001b[0;34m:\u001b[0m\u001b[0;34m\u001b[0m\u001b[0;34m\u001b[0m\u001b[0m\n\u001b[1;32m      4\u001b[0m     \u001b[0mprint\u001b[0m\u001b[0;34m(\u001b[0m\u001b[0;34m\"Invalid input. Please enter a numerical value.\"\u001b[0m\u001b[0;34m)\u001b[0m \u001b[0;31m# if there's a value error, print this message and try again\u001b[0m\u001b[0;34m\u001b[0m\u001b[0;34m\u001b[0m\u001b[0m\n\u001b[0;32m----> 5\u001b[0;31m     \u001b[0mprint\u001b[0m\u001b[0;34m(\u001b[0m\u001b[0mclassify_heat_index\u001b[0m\u001b[0;34m(\u001b[0m\u001b[0;34m)\u001b[0m\u001b[0;34m)\u001b[0m\u001b[0;34m\u001b[0m\u001b[0;34m\u001b[0m\u001b[0m\n\u001b[0m\u001b[1;32m      6\u001b[0m \u001b[0;34m\u001b[0m\u001b[0m\n",
            "\u001b[0;32m<ipython-input-10-f35fb2af4a8a>\u001b[0m in \u001b[0;36mclassify_heat_index\u001b[0;34m()\u001b[0m\n\u001b[1;32m      7\u001b[0m         \u001b[0mstr\u001b[0m\u001b[0;34m:\u001b[0m \u001b[0mRisk\u001b[0m \u001b[0mcategory\u001b[0m \u001b[0;32mand\u001b[0m \u001b[0msafety\u001b[0m \u001b[0mmessage\u001b[0m\u001b[0;34m.\u001b[0m\u001b[0;34m\u001b[0m\u001b[0;34m\u001b[0m\u001b[0m\n\u001b[1;32m      8\u001b[0m     \"\"\"\n\u001b[0;32m----> 9\u001b[0;31m     \u001b[0mheat_index\u001b[0m \u001b[0;34m=\u001b[0m \u001b[0mint\u001b[0m\u001b[0;34m(\u001b[0m\u001b[0minput\u001b[0m\u001b[0;34m(\u001b[0m\u001b[0;34m\"Enter today's heat index value: \"\u001b[0m\u001b[0;34m)\u001b[0m\u001b[0;34m)\u001b[0m\u001b[0;34m\u001b[0m\u001b[0;34m\u001b[0m\u001b[0m\n\u001b[0m\u001b[1;32m     10\u001b[0m \u001b[0;34m\u001b[0m\u001b[0m\n\u001b[1;32m     11\u001b[0m     \u001b[0;32mif\u001b[0m \u001b[0mheat_index\u001b[0m \u001b[0;34m<\u001b[0m \u001b[0;36m80\u001b[0m\u001b[0;34m:\u001b[0m\u001b[0;34m\u001b[0m\u001b[0;34m\u001b[0m\u001b[0m\n",
            "\u001b[0;31mValueError\u001b[0m: invalid literal for int() with base 10: 'extreme hot'"
          ]
        }
      ]
    },
    {
      "cell_type": "markdown",
      "source": [
        "Now, the code mentioned above has additional issues—it only runs once. If the user provides an invalid input, the program prompts for a new value. However, if the user enters an invalid input again, the code stops and returns an error instead of continuing. To prevent this, we need to use iterations to allow multiple attempts and avoid such errors. This concept will be covered in the next part of the lecture."
      ],
      "metadata": {
        "id": "txMEQvcSQLTI"
      }
    }
  ]
}