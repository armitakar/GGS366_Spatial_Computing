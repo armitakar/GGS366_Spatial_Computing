{
  "nbformat": 4,
  "nbformat_minor": 0,
  "metadata": {
    "colab": {
      "provenance": [],
      "authorship_tag": "ABX9TyM1mzAySgNsi6K0X2jLkmMt",
      "include_colab_link": true
    },
    "kernelspec": {
      "name": "python3",
      "display_name": "Python 3"
    },
    "language_info": {
      "name": "python"
    }
  },
  "cells": [
    {
      "cell_type": "markdown",
      "metadata": {
        "id": "view-in-github",
        "colab_type": "text"
      },
      "source": [
        "<a href=\"https://colab.research.google.com/github/armitakar/GGS366_Spatial_Computing/blob/main/Lectures/3_1_Data_structures_Lists%2C_Tuples%2C_and_Strings.ipynb\" target=\"_parent\"><img src=\"https://colab.research.google.com/assets/colab-badge.svg\" alt=\"Open In Colab\"/></a>"
      ]
    },
    {
      "cell_type": "markdown",
      "source": [
        "In addition to simple data types such as integers, floats, and strings, Python can work with **compound data structures**, such as **lists, tuples, dictionaries, and sets**. These compound data structures typically contain multiple items or elements.\n",
        "\n",
        "Compound data can be categorized as either sequenced (ordered) or unsequenced (unordered):\n",
        "\n",
        "- **Sequenced (ordered) data structures** store multiple elements in a specific order. Each element is assigned an index based on its position, which we use to access the element. Examples include **lists, tuples, and strings**.\n",
        "- **Unsequenced (unordered) data structures** do not maintain any specific order of elements. Examples include **dictionaries and sets**.\n",
        "\n",
        "Additionally, compound data structures can be classified as mutable or immutable:\n",
        "\n",
        "- **Mutable data structures** can be changed, modified, or updated after creation. Examples include **lists, dictionaries, and sets**.\n",
        "- **Immutable data structures** cannot be edited once created. Examples include **strings and tuples**.\n"
      ],
      "metadata": {
        "id": "nxY5eTfL9LpL"
      }
    },
    {
      "cell_type": "markdown",
      "source": [
        "\n",
        "In this lecture, we will explore **compound, sequenced data structures** and learn how to manipulate them effectively."
      ],
      "metadata": {
        "id": "vHCXNvR_oe6E"
      }
    },
    {
      "cell_type": "markdown",
      "source": [
        "# Lists"
      ],
      "metadata": {
        "id": "cNBguJ3s9umT"
      }
    },
    {
      "cell_type": "markdown",
      "source": [
        "A list is a group of elements/items seperated by commas and enclosed with square brackets [ ]. These items can be of various data types (e.g., integers, strings, or even other compound data). In practice, items on a list are often of the same data type.\n",
        "\n",
        "**Lists are ordered**, thus the elements retain the sequence in which they were placed.\n",
        "\n",
        "**Lists are mutable**, meaning that items can be edited as necessary, e.g., using a range of in-built python functions for manipulation, including append(), extend(), insert(), remove(), sort(), reverse(), and sorted(). See here: https://docs.python.org/3/tutorial/datastructures.html\n",
        "\n",
        "The key use case is storing elements in a sequenced order."
      ],
      "metadata": {
        "id": "zqOtzqbL9v3_"
      }
    },
    {
      "cell_type": "code",
      "source": [
        "# A list of integers\n",
        "prime_numbers = [2, 3, 5, 7, 11, 13, 17, 19, 23, 29]\n",
        "\n",
        "# A list of floats\n",
        "temperature = [72.5, 68.4, 75.0, 70.2, 69.8]\n",
        "\n",
        "# A list of strings\n",
        "VA_cities = [\"Fairfax\", \"Arlington\", \"Bedford\", \"Blumont\", \"Richmond\", \"Woodburn\", \"Dover\"]\n",
        "\n",
        "# A list of mixed data types\n",
        "random = [4, 9.1, \"abc\"]"
      ],
      "metadata": {
        "id": "7oSx50QJ_uTj"
      },
      "execution_count": 50,
      "outputs": []
    },
    {
      "cell_type": "markdown",
      "source": [
        "The items on the list do not necessarily have to be unique. Some item values can be the same."
      ],
      "metadata": {
        "id": "BAfCAI5QSSBP"
      }
    },
    {
      "cell_type": "code",
      "source": [
        "# A list of students' age in a class\n",
        "age = [20, 24, 22, 22, 24, 21, 20, 19, 20]"
      ],
      "metadata": {
        "id": "DycNuVLcSflR"
      },
      "execution_count": 51,
      "outputs": []
    },
    {
      "cell_type": "markdown",
      "source": [
        "To get the total number of items in a list, you can use the **len() function**. This len() function is also applicable to other compound data structures, such as tuples, dictionaries, and sets, which we will cover later in this lecture."
      ],
      "metadata": {
        "id": "6kk_PXSzfobz"
      }
    },
    {
      "cell_type": "code",
      "source": [
        "len(age)"
      ],
      "metadata": {
        "colab": {
          "base_uri": "https://localhost:8080/"
        },
        "id": "oNv166Wef4Wa",
        "outputId": "92ef4cef-280d-4132-a407-add9a9b24840"
      },
      "execution_count": 52,
      "outputs": [
        {
          "output_type": "execute_result",
          "data": {
            "text/plain": [
              "9"
            ]
          },
          "metadata": {},
          "execution_count": 52
        }
      ]
    },
    {
      "cell_type": "code",
      "source": [
        "len(VA_cities)"
      ],
      "metadata": {
        "colab": {
          "base_uri": "https://localhost:8080/"
        },
        "id": "XXsTCrGyf-Gs",
        "outputId": "cd836e92-89bb-4194-c55c-3fff9897db4f"
      },
      "execution_count": 53,
      "outputs": [
        {
          "output_type": "execute_result",
          "data": {
            "text/plain": [
              "7"
            ]
          },
          "metadata": {},
          "execution_count": 53
        }
      ]
    },
    {
      "cell_type": "markdown",
      "source": [
        "### Indexing with lists"
      ],
      "metadata": {
        "id": "WRH1ukd7SLxY"
      }
    },
    {
      "cell_type": "markdown",
      "source": [
        "Since lists are sequenced/ordered data, all items in a list are indexed. **Index refers to the position of an element within the list.**\n",
        "\n",
        "**List indexing** starts at 0 and increases in ascending order. For example, if a list contains five elements, the first element (i.e., the leftmost element) is at index 0, followed by elements at indices 1, 2, 3, and 4.\n",
        "\n",
        "You can also use **negative indexing** to access elements from the end of the list. In this case, the last element is indexed as -1, and counting continues backward in descending order of negative integers (e.g., -2, -3, and so on).\n",
        "\n",
        "![\"Image\"](https://www.programiz.com/sites/tutorial2program/files/numpy-array-negative-index.png)\n",
        "\n"
      ],
      "metadata": {
        "id": "dHoMsLCpTCiu"
      }
    },
    {
      "cell_type": "code",
      "source": [
        "# examples of positive and negative indexing\n",
        "print(VA_cities[0]) # printing the first element of VA_cities list\n",
        "print(VA_cities[3]) # printing the fourth element of VA_cities list\n",
        "\n",
        "# say you want to know the last element of this list\n",
        "# if you already know the length of the list, then you can calculate index of the last element as list_length - 1\n",
        "# for instance VA_cities list has 7 items, in other words the length of this VA_cities list is 7 and the last item index will be 7-1 = 6\n",
        "print(VA_cities[6])\n",
        "\n",
        "# or to avoid complexity, you can just use the negative indexing\n",
        "print(VA_cities[-1]) # printing the last element of VA_cities list"
      ],
      "metadata": {
        "colab": {
          "base_uri": "https://localhost:8080/"
        },
        "id": "L_4SujWwSP3m",
        "outputId": "66939ab4-86b8-4b51-acc6-17c8617ec8ce"
      },
      "execution_count": 54,
      "outputs": [
        {
          "output_type": "stream",
          "name": "stdout",
          "text": [
            "Fairfax\n",
            "Blumont\n",
            "Dover\n",
            "Dover\n"
          ]
        }
      ]
    },
    {
      "cell_type": "markdown",
      "source": [
        "If you want to know index of a specific item within a list, you can use the **.index()** function. Here's an example:"
      ],
      "metadata": {
        "id": "dyWVHeJehPTG"
      }
    },
    {
      "cell_type": "code",
      "source": [
        "# Printing the index of value \"Bedford\" within the list VA_cities\n",
        "VA_cities.index(\"Bedford\")"
      ],
      "metadata": {
        "colab": {
          "base_uri": "https://localhost:8080/"
        },
        "id": "Vt1MGX1wiZQd",
        "outputId": "362cbe0a-8fc1-4a92-8d30-02ccbdde344b"
      },
      "execution_count": 55,
      "outputs": [
        {
          "output_type": "execute_result",
          "data": {
            "text/plain": [
              "2"
            ]
          },
          "metadata": {},
          "execution_count": 55
        }
      ]
    },
    {
      "cell_type": "markdown",
      "source": [
        "Indexes are used to manipulate lists in various ways. For example, using index numbers, you can:\n",
        "\n",
        "- Create a subset of the list\n",
        "- Replace or remove an item at a specific position\n",
        "- Iterate through the list elements"
      ],
      "metadata": {
        "id": "_RfXSQLei4Um"
      }
    },
    {
      "cell_type": "markdown",
      "source": [
        "### Slicing with lists"
      ],
      "metadata": {
        "id": "fuk6YnaWjRbT"
      }
    },
    {
      "cell_type": "markdown",
      "source": [
        "Any sequenced data can be sliced using their indexes. In terms of lists, **slicing means creating a subset of the original list**. All slice operations return a new list containing the specified elements.\n",
        "\n",
        "To create a slice, use index positions by writing the list name followed by square brackets containing the start and end index values, separated by a colon (:).\n",
        "\n",
        "When slicing, Python **includes the element at the start index but excludes the element at the end index**."
      ],
      "metadata": {
        "id": "I_wXA3mzjW6w"
      }
    },
    {
      "cell_type": "code",
      "source": [
        "#just to remind you what the entire VA_cities list looked like\n",
        "print(VA_cities)\n",
        "\n",
        "VA_cities_slice1 = VA_cities[1:4] # items from index 1 (included) to 4 (excluded)\n",
        "print(VA_cities_slice1)"
      ],
      "metadata": {
        "colab": {
          "base_uri": "https://localhost:8080/"
        },
        "id": "zyLcHDAHjWdO",
        "outputId": "fcb3b0a6-1dd9-4fff-c791-7442cf74fa33"
      },
      "execution_count": 56,
      "outputs": [
        {
          "output_type": "stream",
          "name": "stdout",
          "text": [
            "['Fairfax', 'Arlington', 'Bedford', 'Blumont', 'Richmond', 'Woodburn', 'Dover']\n",
            "['Arlington', 'Bedford', 'Blumont']\n"
          ]
        }
      ]
    },
    {
      "cell_type": "markdown",
      "source": [
        "If you do not provide a start/end index value, Python will use defaults; an **omitted start index defaults to zero**, **an omitted end index defaults to the size of the list being sliced**."
      ],
      "metadata": {
        "id": "WH1zHKnWmyhT"
      }
    },
    {
      "cell_type": "code",
      "source": [
        "VA_cities_slice2 = VA_cities[:4] # items from the beginning to index 4 (excluded)\n",
        "print(VA_cities_slice2)\n",
        "\n",
        "VA_cities_slice3 = VA_cities[3:] # items from index 3 (included) to the end\n",
        "print(VA_cities_slice3)\n",
        "\n",
        "VA_cities_slice4 = VA_cities[-2:] # items from the second-last (included) to the end\n",
        "print(VA_cities_slice4)"
      ],
      "metadata": {
        "colab": {
          "base_uri": "https://localhost:8080/"
        },
        "id": "fJ2yOlbknRJX",
        "outputId": "a5584099-d231-4de6-9655-dbc23006fb9a"
      },
      "execution_count": 57,
      "outputs": [
        {
          "output_type": "stream",
          "name": "stdout",
          "text": [
            "['Fairfax', 'Arlington', 'Bedford', 'Blumont']\n",
            "['Blumont', 'Richmond', 'Woodburn', 'Dover']\n",
            "['Woodburn', 'Dover']\n"
          ]
        }
      ]
    },
    {
      "cell_type": "markdown",
      "source": [
        "### Append/ Replace/ Remove items"
      ],
      "metadata": {
        "id": "x-ifC2pdpczi"
      }
    },
    {
      "cell_type": "markdown",
      "source": [
        "**Lists are mutable.** So, you can edit them.\n",
        "\n",
        "You can append values to a list using the **.append()** function. The new value would be added at the end of the list."
      ],
      "metadata": {
        "id": "MUmawkceolRP"
      }
    },
    {
      "cell_type": "code",
      "source": [
        "# Example of appenidng values to VA_cities list\n",
        "VA_cities.append(\"Bloomfield\")\n",
        "print(VA_cities)"
      ],
      "metadata": {
        "colab": {
          "base_uri": "https://localhost:8080/"
        },
        "id": "Fmhw1MTxopDl",
        "outputId": "50bd6658-7a44-483b-c69e-ac8a60f6d532"
      },
      "execution_count": 58,
      "outputs": [
        {
          "output_type": "stream",
          "name": "stdout",
          "text": [
            "['Fairfax', 'Arlington', 'Bedford', 'Blumont', 'Richmond', 'Woodburn', 'Dover', 'Bloomfield']\n"
          ]
        }
      ]
    },
    {
      "cell_type": "markdown",
      "source": [
        "You can **replace items** at specific positions without changing their placement in the list."
      ],
      "metadata": {
        "id": "AubGJVDmqSho"
      }
    },
    {
      "cell_type": "code",
      "source": [
        "# for instance, this is what we have for index 3 on VA_cities list\n",
        "print(VA_cities[3])"
      ],
      "metadata": {
        "colab": {
          "base_uri": "https://localhost:8080/"
        },
        "id": "zJ0jRViPqSC5",
        "outputId": "50cc4eb0-21cc-4e17-def4-5d74785a9e75"
      },
      "execution_count": 59,
      "outputs": [
        {
          "output_type": "stream",
          "name": "stdout",
          "text": [
            "Blumont\n"
          ]
        }
      ]
    },
    {
      "cell_type": "code",
      "source": [
        "# however, the spelling is incorrect, and we want to replace it with the correct spelling\n",
        "VA_cities[3] = \"Bluemont\"\n",
        "\n",
        "# printing the list to make sure it's updated\n",
        "print(VA_cities)"
      ],
      "metadata": {
        "colab": {
          "base_uri": "https://localhost:8080/"
        },
        "id": "Lbxi3ZrKkWkf",
        "outputId": "6e784eaa-6624-406b-db04-1b2018b00d78"
      },
      "execution_count": 60,
      "outputs": [
        {
          "output_type": "stream",
          "name": "stdout",
          "text": [
            "['Fairfax', 'Arlington', 'Bedford', 'Bluemont', 'Richmond', 'Woodburn', 'Dover', 'Bloomfield']\n"
          ]
        }
      ]
    },
    {
      "cell_type": "markdown",
      "source": [
        "You can remove an element using the **.remove()** function. Inside the parenthesis put the values that you want to be removed."
      ],
      "metadata": {
        "id": "UK5uZQi5riLn"
      }
    },
    {
      "cell_type": "code",
      "source": [
        "VA_cities.remove(\"Bloomfield\") # asking to remove a specific value\n",
        "print(VA_cities)\n",
        "\n",
        "VA_cities.remove(VA_cities[3]) # asking to remove the value at a specific index\n",
        "print(VA_cities)"
      ],
      "metadata": {
        "colab": {
          "base_uri": "https://localhost:8080/"
        },
        "id": "WvE_teH7sL5e",
        "outputId": "001db007-75d2-438c-9913-32610218ac91"
      },
      "execution_count": 61,
      "outputs": [
        {
          "output_type": "stream",
          "name": "stdout",
          "text": [
            "['Fairfax', 'Arlington', 'Bedford', 'Bluemont', 'Richmond', 'Woodburn', 'Dover']\n",
            "['Fairfax', 'Arlington', 'Bedford', 'Richmond', 'Woodburn', 'Dover']\n"
          ]
        }
      ]
    },
    {
      "cell_type": "markdown",
      "source": [
        "### Concatenate lists"
      ],
      "metadata": {
        "id": "c864AVsktHH0"
      }
    },
    {
      "cell_type": "markdown",
      "source": [
        "You can concatenate multiple lists using the plus (+) operator."
      ],
      "metadata": {
        "id": "1u8sBE-ZtNBK"
      }
    },
    {
      "cell_type": "code",
      "source": [
        "NP_list1 = [\"Yellowstone\", \"Grand Teton\", \"Arches\"]\n",
        "NP_list2 = [\"Smokey mountain\", \"Shenandoah\"]\n",
        "NP_list3 = NP_list1 + NP_list2\n",
        "print(NP_list3)"
      ],
      "metadata": {
        "colab": {
          "base_uri": "https://localhost:8080/"
        },
        "id": "6GuAKNOmtTWI",
        "outputId": "9b0f8135-249d-465e-925e-dd13bba24514"
      },
      "execution_count": 62,
      "outputs": [
        {
          "output_type": "stream",
          "name": "stdout",
          "text": [
            "['Yellowstone', 'Grand Teton', 'Arches', 'Smokey mountain', 'Shenandoah']\n"
          ]
        }
      ]
    },
    {
      "cell_type": "markdown",
      "source": [
        "# Tuples"
      ],
      "metadata": {
        "id": "zLtIcTf9wZUe"
      }
    },
    {
      "cell_type": "markdown",
      "source": [
        "The tuples are similar to lists - **a group of items/elements enclosed with parenthesis**, instead of square brackets.\n",
        "\n",
        "Like lists, **tuples are also ordered** (so they can also be indexed and sliced).\n",
        "\n",
        "A key use for tuples is storing a fixed collection of elements which you do not want re-ordered, such as geographic coordinates."
      ],
      "metadata": {
        "id": "5ZTlp9i7wgfk"
      }
    },
    {
      "cell_type": "code",
      "source": [
        "coord = (-77.31, 38.83)\n",
        "print(coord)"
      ],
      "metadata": {
        "colab": {
          "base_uri": "https://localhost:8080/"
        },
        "id": "ZYrSqrPAwgHl",
        "outputId": "4edf6d4f-707d-493d-c2b3-041ef2dfd202"
      },
      "execution_count": 63,
      "outputs": [
        {
          "output_type": "stream",
          "name": "stdout",
          "text": [
            "(-77.31, 38.83)\n"
          ]
        }
      ]
    },
    {
      "cell_type": "markdown",
      "source": [
        "Given tuples are also ordered, you can find their values based on index position"
      ],
      "metadata": {
        "id": "jGjgbxNk0XqQ"
      }
    },
    {
      "cell_type": "code",
      "source": [
        "print(coord[0]) # print value at index 0\n",
        "print(coord[1]) # print value at index 1"
      ],
      "metadata": {
        "colab": {
          "base_uri": "https://localhost:8080/"
        },
        "id": "yPlOGsCS0lLa",
        "outputId": "2b109527-6e6d-4a78-ca01-59686e2b9f56"
      },
      "execution_count": 64,
      "outputs": [
        {
          "output_type": "stream",
          "name": "stdout",
          "text": [
            "-77.31\n",
            "38.83\n"
          ]
        }
      ]
    },
    {
      "cell_type": "markdown",
      "source": [
        "As opposed to lists, **tuples are immutable**. You cannot be further change elements of a tuple once created."
      ],
      "metadata": {
        "id": "sgjrt9pK0wg3"
      }
    },
    {
      "cell_type": "code",
      "source": [
        "coord[1] = 39.02 # trying to assign a new value to a particular tuple element is giving us an error message"
      ],
      "metadata": {
        "colab": {
          "base_uri": "https://localhost:8080/",
          "height": 145
        },
        "id": "g2_rML9c01RQ",
        "outputId": "47452ecc-84d2-4b41-abd9-770ff87a9314"
      },
      "execution_count": 65,
      "outputs": [
        {
          "output_type": "error",
          "ename": "TypeError",
          "evalue": "'tuple' object does not support item assignment",
          "traceback": [
            "\u001b[0;31m---------------------------------------------------------------------------\u001b[0m",
            "\u001b[0;31mTypeError\u001b[0m                                 Traceback (most recent call last)",
            "\u001b[0;32m<ipython-input-65-a9bdf745f817>\u001b[0m in \u001b[0;36m<cell line: 0>\u001b[0;34m()\u001b[0m\n\u001b[0;32m----> 1\u001b[0;31m \u001b[0mcoord\u001b[0m\u001b[0;34m[\u001b[0m\u001b[0;36m1\u001b[0m\u001b[0;34m]\u001b[0m \u001b[0;34m=\u001b[0m \u001b[0;36m39.02\u001b[0m \u001b[0;31m# trying to assign a new value to a particular tuple element is giving us an error message\u001b[0m\u001b[0;34m\u001b[0m\u001b[0;34m\u001b[0m\u001b[0m\n\u001b[0m",
            "\u001b[0;31mTypeError\u001b[0m: 'tuple' object does not support item assignment"
          ]
        }
      ]
    },
    {
      "cell_type": "markdown",
      "source": [
        "If we want to update one element of the tuple, we need to reassign the whole tuple."
      ],
      "metadata": {
        "id": "g5CEOHjV1YIo"
      }
    },
    {
      "cell_type": "code",
      "source": [
        "coord_updated = (coord[0], 39.02)\n",
        "print(coord_updated)"
      ],
      "metadata": {
        "colab": {
          "base_uri": "https://localhost:8080/"
        },
        "id": "qS5e8hso1hLO",
        "outputId": "9c3d7540-faf9-4baa-e4d4-4641d4e869a1"
      },
      "execution_count": 66,
      "outputs": [
        {
          "output_type": "stream",
          "name": "stdout",
          "text": [
            "(-77.31, 39.02)\n"
          ]
        }
      ]
    },
    {
      "cell_type": "markdown",
      "source": [
        "# Strings"
      ],
      "metadata": {
        "id": "7oPit2gXmJU3"
      }
    },
    {
      "cell_type": "markdown",
      "source": [
        "You can also think of a string as a compound data type—a sequence of characters enclosed in quotes. Given this characteristic, **strings can be treated as sequenced or ordered data**, meaning they **can be indexed and sliced** just like lists and tuples.\n",
        "\n",
        "However, similar to tuples, **strings are immutable**."
      ],
      "metadata": {
        "id": "852ztq-1mLsr"
      }
    },
    {
      "cell_type": "code",
      "source": [
        "# Defining a string\n",
        "text = \"Strings can be indexed and sliced!\"\n",
        "\n",
        "# Indexing: Accessing individual characters\n",
        "print(text[0])   # Output: S (first character)\n",
        "print(text[8])   # Output: c (character at index 8)\n",
        "print(text[-1])  # Output: ! (last character using negative indexing)\n",
        "\n",
        "# Slicing: Creating a substring\n",
        "print(text[0:7])    # Output: Strings (characters from index 0 to 7)\n",
        "print(text[15:])    # Output: indexed and sliced! (slicing from index 15 to the end)"
      ],
      "metadata": {
        "colab": {
          "base_uri": "https://localhost:8080/"
        },
        "id": "OhmtTdYqnYeZ",
        "outputId": "ff50ffdf-c492-4e80-a68e-55b5628197a8"
      },
      "execution_count": 67,
      "outputs": [
        {
          "output_type": "stream",
          "name": "stdout",
          "text": [
            "S\n",
            "c\n",
            "!\n",
            "Strings\n",
            "indexed and sliced!\n"
          ]
        }
      ]
    }
  ]
}