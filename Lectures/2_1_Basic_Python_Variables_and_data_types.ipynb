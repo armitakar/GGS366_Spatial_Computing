{
  "nbformat": 4,
  "nbformat_minor": 0,
  "metadata": {
    "colab": {
      "provenance": [],
      "authorship_tag": "ABX9TyM8zuG7LJ2gB6xS5CyF/2IX",
      "include_colab_link": true
    },
    "kernelspec": {
      "name": "python3",
      "display_name": "Python 3"
    },
    "language_info": {
      "name": "python"
    }
  },
  "cells": [
    {
      "cell_type": "markdown",
      "metadata": {
        "id": "view-in-github",
        "colab_type": "text"
      },
      "source": [
        "<a href=\"https://colab.research.google.com/github/armitakar/GGS366_Spatial_Computing/blob/main/Lectures/2_1_Basic_Python_Variables_and_data_types.ipynb\" target=\"_parent\"><img src=\"https://colab.research.google.com/assets/colab-badge.svg\" alt=\"Open In Colab\"/></a>"
      ]
    },
    {
      "cell_type": "markdown",
      "source": [
        "In this lecture, we will learn about:\n",
        "- How to use Python as a calculator\n",
        "- How to work with variables\n",
        "- How to deal with text-based programming"
      ],
      "metadata": {
        "id": "lyJrP3fpvZun"
      }
    },
    {
      "cell_type": "markdown",
      "source": [
        "# Python as a calculator"
      ],
      "metadata": {
        "id": "0XvsdUWqrQ3g"
      }
    },
    {
      "cell_type": "markdown",
      "source": [
        "Python can deal with any arithmetic operators (+, -, *, /) and parentheses () just as a calculator.\n"
      ],
      "metadata": {
        "id": "-8YRl4VyrVIU"
      }
    },
    {
      "cell_type": "code",
      "source": [
        "# Basic arithmetic operations\n",
        "print(10 + 5)   # Addition\n",
        "print(10 - 5)   # Subtraction\n",
        "print(10 * 5)   # Multiplication\n",
        "print(10 / 5)   # Division\n",
        "\n",
        "# Using parentheses to control order of operations\n",
        "# remember PEMDAS?? (Parentheses, Exponents, Multiplication and Division, Addition and Subtraction)\n",
        "print((10 + 5) * (2 - 3) / 4) # complex calculations"
      ],
      "metadata": {
        "colab": {
          "base_uri": "https://localhost:8080/"
        },
        "id": "z3sxq7kDrQX5",
        "outputId": "428c07f4-ac0d-45ea-c841-8655467443f7"
      },
      "execution_count": 4,
      "outputs": [
        {
          "output_type": "stream",
          "name": "stdout",
          "text": [
            "15\n",
            "5\n",
            "50\n",
            "2.0\n",
            "-3.75\n"
          ]
        }
      ]
    },
    {
      "cell_type": "markdown",
      "source": [
        "Division (/) always returns a float. To get an integer, use the // operator and to calculate the remainder, use %."
      ],
      "metadata": {
        "id": "3KyktevMs0Jy"
      }
    },
    {
      "cell_type": "code",
      "source": [
        "# Regular division (always returns a float)\n",
        "print(10 / 3)  # 3.3333...\n",
        "\n",
        "# Floor division (//) returns an integer by discarding the decimal part\n",
        "print(10 // 3)  # 3\n",
        "\n",
        "# Remainder (%) returns the remainder of the division\n",
        "print(10 % 3)  # 1\n",
        "\n",
        "\n"
      ],
      "metadata": {
        "colab": {
          "base_uri": "https://localhost:8080/"
        },
        "id": "YscLcOj2tClM",
        "outputId": "3ad6a9ec-6741-4509-da04-3c5a112d57ce"
      },
      "execution_count": null,
      "outputs": [
        {
          "output_type": "stream",
          "name": "stdout",
          "text": [
            "3.3333333333333335\n",
            "3\n",
            "1\n"
          ]
        }
      ]
    },
    {
      "cell_type": "markdown",
      "source": [
        "Use the ** operator to calculate powers."
      ],
      "metadata": {
        "id": "wrBM4gsJt1Zq"
      }
    },
    {
      "cell_type": "code",
      "source": [
        "# ** to calculate power\n",
        "print(2**4)"
      ],
      "metadata": {
        "colab": {
          "base_uri": "https://localhost:8080/"
        },
        "id": "gOaZvUsRt2Xg",
        "outputId": "2e24d5eb-238b-4262-c801-edbeb38dafc7"
      },
      "execution_count": null,
      "outputs": [
        {
          "output_type": "stream",
          "name": "stdout",
          "text": [
            "16\n"
          ]
        }
      ]
    },
    {
      "cell_type": "markdown",
      "source": [
        "# Variables"
      ],
      "metadata": {
        "id": "L_S-8WlUuCRn"
      }
    },
    {
      "cell_type": "markdown",
      "source": [
        "Variables are containers to store data values. Variables can store a range of data types: a single value, list of values, tabular data (e.g., dataframe), strings/texts, etc.\n",
        "\n",
        "In this particular lecture, we will discuss three main types:\n",
        "1.\tNumbers: Integer (Whole numbers) and Float (Decimal numbers)\n",
        "2.\tText: String\n",
        "3. True/False : Boolean\n",
        "\n"
      ],
      "metadata": {
        "id": "a1f3nOU4v4hw"
      }
    },
    {
      "cell_type": "markdown",
      "source": [
        "\n",
        "### Declaring variables and assigning a value\n",
        "The equal sign (=) is used to assign a value to a variable. The value on the right of the equals sign is then added to the computer memory, given the variable name you declare.\n",
        "\n",
        "Use the print function to display the variable."
      ],
      "metadata": {
        "id": "-NdXrTfv0yEZ"
      }
    },
    {
      "cell_type": "code",
      "source": [
        "# declaring variables\n",
        "name = \"Stacy\"\n",
        "age = 25\n",
        "height = 5.6\n",
        "college_grad = True\n",
        "\n",
        "print(\"Name:\", name)\n",
        "print(\"Age:\", age)\n",
        "print(\"Height\", height)\n",
        "print(\"College grad:\", college_grad)"
      ],
      "metadata": {
        "colab": {
          "base_uri": "https://localhost:8080/"
        },
        "id": "Vi2y0Dcev8fc",
        "outputId": "d382e143-4034-4292-b1c2-ae1c5e84bb7a"
      },
      "execution_count": 1,
      "outputs": [
        {
          "output_type": "stream",
          "name": "stdout",
          "text": [
            "Name: Stacy\n",
            "Age: 25\n",
            "Height 5.6\n",
            "College grad: True\n"
          ]
        }
      ]
    },
    {
      "cell_type": "markdown",
      "source": [
        "You do not need to assign data types when declaring a variable. Python can do that automatically. You can use the type() function to confirm the variable types.\n"
      ],
      "metadata": {
        "id": "F5dciuzMdPfd"
      }
    },
    {
      "cell_type": "code",
      "source": [
        "type(name), type(age), type(height), type(college_grad)"
      ],
      "metadata": {
        "colab": {
          "base_uri": "https://localhost:8080/"
        },
        "id": "NHypaDiTdWSY",
        "outputId": "9ce1f65d-7697-4b07-d6ed-743feb9875d5"
      },
      "execution_count": 5,
      "outputs": [
        {
          "output_type": "execute_result",
          "data": {
            "text/plain": [
              "(str, int, float, bool)"
            ]
          },
          "metadata": {},
          "execution_count": 5
        }
      ]
    },
    {
      "cell_type": "markdown",
      "source": [
        "The variable name can not be multiple words. If you need to use multiple words to better convey the variable's meaning, use underscores in between words."
      ],
      "metadata": {
        "id": "uwk60KGkyFrX"
      }
    },
    {
      "cell_type": "code",
      "source": [
        "# declaring variables\n",
        "name = \"Stacy\"\n",
        "age = 25\n",
        "height = 5.6\n",
        "college_grad = True\n",
        "birth_year = 2000\n",
        "\n",
        "print(\"Name:\", name)\n",
        "print(\"Age:\", age)\n",
        "print(\"Height\", height)\n",
        "print(\"College grad:\", college_grad)\n",
        "print(\"Birth year:\",birth_year)"
      ],
      "metadata": {
        "colab": {
          "base_uri": "https://localhost:8080/"
        },
        "id": "GBkAcitnyJRg",
        "outputId": "aa09fae8-344b-423d-b96e-6513fdbe1c16"
      },
      "execution_count": 3,
      "outputs": [
        {
          "output_type": "stream",
          "name": "stdout",
          "text": [
            "Name: Stacy\n",
            "Age: 25\n",
            "Height 5.6\n",
            "College grad: True\n",
            "Birth year: 2000\n"
          ]
        }
      ]
    },
    {
      "cell_type": "markdown",
      "source": [
        "### Arithmetic operations with variable\n",
        "You can perform any arithmetic operations mentioned above, by directly calling the variable names. For instance, you can calculate Stacy’s age directly from her birth year."
      ],
      "metadata": {
        "id": "WfGj2bcGKBFh"
      }
    },
    {
      "cell_type": "code",
      "source": [
        "age = 2025 - birth_year\n",
        "print(\"Age:\", age)"
      ],
      "metadata": {
        "colab": {
          "base_uri": "https://localhost:8080/"
        },
        "id": "ydzSy3SCKBwZ",
        "outputId": "4180f91c-dd67-440a-de96-1dbc74356a39"
      },
      "execution_count": null,
      "outputs": [
        {
          "output_type": "stream",
          "name": "stdout",
          "text": [
            "Age: 25\n"
          ]
        }
      ]
    },
    {
      "cell_type": "markdown",
      "source": [
        "### Updating variables\n",
        "A variable value can be updated.\n",
        "\n",
        "Say we want to calculate Stacy's total walking time in a week. On day 1, the variable total_walking_time is assigned a value of 20 minutes. On day 2, the variable value can be updated to reflect her total walking time up to that day. If this continues, on day 7, we will get her final total walking time for that week.  \n"
      ],
      "metadata": {
        "id": "lK9BIhVl2aB6"
      }
    },
    {
      "cell_type": "code",
      "source": [
        "total_walking_time = 20 # walking time on Day 1\n",
        "print(\"Total walking time for Stacy on day 1 in the week\", total_walking_time)\n",
        "\n",
        "total_walking_time = total_walking_time + 25 # walking time on Day 2\n",
        "print(\"Total walking time for Stacy on day 2 in the week\", total_walking_time)\n",
        "\n",
        "total_walking_time = total_walking_time + 10 # walking time on Day 3\n",
        "print(\"Total walking time for Stacy on day 3 in the week\", total_walking_time)"
      ],
      "metadata": {
        "colab": {
          "base_uri": "https://localhost:8080/"
        },
        "id": "Qh1NOcYaF63W",
        "outputId": "3bac1f49-2d11-4ebe-e916-c8313685b100"
      },
      "execution_count": null,
      "outputs": [
        {
          "output_type": "stream",
          "name": "stdout",
          "text": [
            "Total walking time for Stacy on day 1 in the week 20\n",
            "Total walking time for Stacy on day 2 in the week 45\n",
            "Total walking time for Stacy on day 3 in the week 55\n"
          ]
        }
      ]
    },
    {
      "cell_type": "markdown",
      "source": [
        "### Declaring multiple variables\n",
        "You can declare multiple variables in a single line of code. See the example below:"
      ],
      "metadata": {
        "id": "Rrk9NlIAK-ZK"
      }
    },
    {
      "cell_type": "code",
      "source": [
        "latitude, longitude = 38.83, -77.31\n",
        "print(\"The exploratory Hall is located at \", latitude, \"° latitude\", \"and\", longitude, \"° longitude\")"
      ],
      "metadata": {
        "colab": {
          "base_uri": "https://localhost:8080/"
        },
        "id": "Qw3AmlABLE9Q",
        "outputId": "bf403c5a-636a-41ff-b5f2-fe2b437aae78"
      },
      "execution_count": 8,
      "outputs": [
        {
          "output_type": "stream",
          "name": "stdout",
          "text": [
            "The exploratory Hall is located at  38.83 ° latitude and -77.31 ° longitude\n"
          ]
        }
      ]
    },
    {
      "cell_type": "markdown",
      "source": [
        "# More details on strings"
      ],
      "metadata": {
        "id": "ZN0CtR9UM9oT"
      }
    },
    {
      "cell_type": "markdown",
      "source": [
        "In Python (and other computer languages), a text/character-based piece of information is referred to as a 'string'.\n",
        "\n",
        "Natural human language consists of characters and symbols. We need to be able to parse strings (e.g., read/process strings) to display them as natural human language.  This is very important for text manipulation, file modification, labelling of plots, requesting inputs from user,reporting errors etc.\n",
        "\n",
        "Strings are enclosed in single or double quotes, ('...' or \"...\"). In the Python shell, the string definition and output string can look different. The print() function produces a more readable output."
      ],
      "metadata": {
        "id": "GoZK0_ybNHls"
      }
    },
    {
      "cell_type": "markdown",
      "source": [
        "### Printing a quote\n",
        "\n",
        "Use one of the following two options to print a quote:\n",
        "1. precede the quote with backward slash ( \\ ) to escape it\n",
        "2. use the other quotation marks for enclosing the string."
      ],
      "metadata": {
        "id": "9FiyfqtkOMLR"
      }
    },
    {
      "cell_type": "code",
      "source": [
        "print('I\\'m taking GGS 366 in this semester') # preceding single quote with backslash to print the quote\n",
        "print(\"I'm taking GGS 366 in this semester\") # using double quote to signal python to print the single quote."
      ],
      "metadata": {
        "colab": {
          "base_uri": "https://localhost:8080/"
        },
        "id": "AuVH4HPyN7mV",
        "outputId": "b19d7e8f-adcc-4bc9-fb9c-6e613ce5cb24"
      },
      "execution_count": null,
      "outputs": [
        {
          "output_type": "stream",
          "name": "stdout",
          "text": [
            "I'm taking GGS 366 in this semester\n",
            "I'm taking GGS 366 in this semester\n"
          ]
        }
      ]
    },
    {
      "cell_type": "markdown",
      "source": [
        "### Adding a new line\n",
        "Use backward slash ( \\n ) to add a new line."
      ],
      "metadata": {
        "id": "VWT6tMN-QbMK"
      }
    },
    {
      "cell_type": "code",
      "source": [
        "print(\"I'm taking GGS 366 in this semester. \\nLooking forward to the next class!\") #\\n used before the second sentence"
      ],
      "metadata": {
        "colab": {
          "base_uri": "https://localhost:8080/"
        },
        "id": "htK0ReysQk6N",
        "outputId": "5a621d3e-c970-4625-86a4-10e8e19918f6"
      },
      "execution_count": null,
      "outputs": [
        {
          "output_type": "stream",
          "name": "stdout",
          "text": [
            "I'm taking GGS 366 in this semester. \n",
            "Looking forward to the next class!\n"
          ]
        }
      ]
    },
    {
      "cell_type": "markdown",
      "source": [
        "### Using raw strings for treating backslashes (\\) as literal characters\n",
        "Use raw strings by prefixing them with *r* before the opening quote. This treats backslashes (\\) as literal characters instead of escape characters. This is especially useful when specifying file paths in data processing."
      ],
      "metadata": {
        "id": "kqny3MMwRUpZ"
      }
    },
    {
      "cell_type": "code",
      "source": [
        "print(\"file path:\", r\"user\\local\\file.csv\") # the r before the double quote refers to the raw string"
      ],
      "metadata": {
        "colab": {
          "base_uri": "https://localhost:8080/"
        },
        "id": "lkHbKJjRRWeE",
        "outputId": "5c65b8fe-7ec9-4f4b-d482-cfb88d4af2e8"
      },
      "execution_count": 6,
      "outputs": [
        {
          "output_type": "stream",
          "name": "stdout",
          "text": [
            "file path: user\\local\\file.csv\n"
          ]
        }
      ]
    },
    {
      "cell_type": "markdown",
      "source": [
        "### Concatenating strings\n",
        "Concatenate (put together) strings with the plus ( + ) operator.\n",
        "\n",
        "Remember, we already declared latitude and longtitude variables earlier. To display them as a geographic coordinate, we typically print them together.\n",
        "\n",
        "Also, note the use of the str() function here. I'm using it to convert the latitude and longitude variables, which are initially assigned as floats, into string data types before concatenating them."
      ],
      "metadata": {
        "id": "-pXic89rSuVt"
      }
    },
    {
      "cell_type": "code",
      "source": [
        "latitude = str(latitude)\n",
        "longitude = str(longitude)\n",
        "print(\"(\" + latitude + \",\" + longitude + \")\")"
      ],
      "metadata": {
        "colab": {
          "base_uri": "https://localhost:8080/"
        },
        "id": "rzGxrKZyS4ZV",
        "outputId": "cb507b29-1d14-4242-d9dc-24241b4e7ad9"
      },
      "execution_count": 9,
      "outputs": [
        {
          "output_type": "stream",
          "name": "stdout",
          "text": [
            "(38.83,-77.31)\n"
          ]
        }
      ]
    },
    {
      "cell_type": "markdown",
      "source": [
        "You can also repeat the strings with asterisk (*) operator."
      ],
      "metadata": {
        "id": "Y-78G3h5ZZXd"
      }
    },
    {
      "cell_type": "code",
      "source": [
        "print(\"Cool! \" * 3)"
      ],
      "metadata": {
        "colab": {
          "base_uri": "https://localhost:8080/"
        },
        "id": "mTgDprHCVPUE",
        "outputId": "d9390f8f-ff91-4a13-d6aa-b4a6247796f4"
      },
      "execution_count": 11,
      "outputs": [
        {
          "output_type": "stream",
          "name": "stdout",
          "text": [
            "Cool! Cool! Cool! \n"
          ]
        }
      ]
    },
    {
      "cell_type": "markdown",
      "source": [
        "![Image Description](https://media.tenor.com/tSLM3YmMzaYAAAAd/cool-cool-cool-no-doubt.gif)"
      ],
      "metadata": {
        "id": "VDaUQvqeV1It"
      }
    },
    {
      "cell_type": "markdown",
      "source": [
        "While concatenating is one way to add a variable value into a string, there are other options.\n"
      ],
      "metadata": {
        "id": "QVvXYCjYXL8R"
      }
    },
    {
      "cell_type": "markdown",
      "source": [
        "**F-strings (formatted string literals)**\n",
        "\n",
        "Prefix the string with *f* before the opening quote, and then insert the variable names within curly braces inside the string.\n"
      ],
      "metadata": {
        "id": "k-VqQ-kzZojc"
      }
    },
    {
      "cell_type": "code",
      "source": [
        "print(f\"The exploratory Hall is located at {latitude}° latitude and {longitude}° longitude\")"
      ],
      "metadata": {
        "colab": {
          "base_uri": "https://localhost:8080/"
        },
        "id": "oJlVlWZFaiU4",
        "outputId": "49b4fb79-039f-4503-cf5e-07747fc1ce08"
      },
      "execution_count": 10,
      "outputs": [
        {
          "output_type": "stream",
          "name": "stdout",
          "text": [
            "The exploratory Hall is located at 38.83° latitude and -77.31° longitude\n"
          ]
        }
      ]
    },
    {
      "cell_type": "markdown",
      "source": [
        "**% Formatting**\n",
        "\n",
        "Use placeholders (e.g., %s for strings, %d for integers, %f for floats) within the string, and then, after the closing quote and %, include the corresponding variable names within parentheses."
      ],
      "metadata": {
        "id": "Rfc2dnCTbTBx"
      }
    },
    {
      "cell_type": "code",
      "source": [
        "print(\"The exploratory Hall is located at %f° latitude and %f° longitude\" % (latitude, longitude)) # printing variables as float types"
      ],
      "metadata": {
        "colab": {
          "base_uri": "https://localhost:8080/"
        },
        "id": "odg8X1WhcZWA",
        "outputId": "4bb7f515-fb97-4f2c-adb5-0775bb61f93b"
      },
      "execution_count": null,
      "outputs": [
        {
          "output_type": "stream",
          "name": "stdout",
          "text": [
            "The exploratory Hall is located at 38.830000° latitude and -77.310000° longitude\n"
          ]
        }
      ]
    },
    {
      "cell_type": "code",
      "source": [
        "print(\"The exploratory Hall is located at %s° latitude and %s° longitude\" % (latitude, longitude)) # printing variables as string types"
      ],
      "metadata": {
        "colab": {
          "base_uri": "https://localhost:8080/"
        },
        "id": "-IMSLDo0coz6",
        "outputId": "68811bc3-3e16-479b-feba-bc58f495f3e1"
      },
      "execution_count": null,
      "outputs": [
        {
          "output_type": "stream",
          "name": "stdout",
          "text": [
            "The exploratory Hall is located at 38.83° latitude and -77.31° longitude\n"
          ]
        }
      ]
    }
  ]
}