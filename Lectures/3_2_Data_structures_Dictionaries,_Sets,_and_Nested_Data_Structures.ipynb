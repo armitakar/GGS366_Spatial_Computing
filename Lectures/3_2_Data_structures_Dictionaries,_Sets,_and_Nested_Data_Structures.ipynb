{
  "nbformat": 4,
  "nbformat_minor": 0,
  "metadata": {
    "colab": {
      "provenance": [],
      "authorship_tag": "ABX9TyNWG2KyfksPK3FEi6Lhq2dV",
      "include_colab_link": true
    },
    "kernelspec": {
      "name": "python3",
      "display_name": "Python 3"
    },
    "language_info": {
      "name": "python"
    }
  },
  "cells": [
    {
      "cell_type": "markdown",
      "metadata": {
        "id": "view-in-github",
        "colab_type": "text"
      },
      "source": [
        "<a href=\"https://colab.research.google.com/github/armitakar/GGS366_Spatial_Computing/blob/main/Lectures/3_2_Data_structures_Dictionaries%2C_Sets%2C_and_Nested_Data_Structures.ipynb\" target=\"_parent\"><img src=\"https://colab.research.google.com/assets/colab-badge.svg\" alt=\"Open In Colab\"/></a>"
      ]
    },
    {
      "cell_type": "markdown",
      "source": [
        "In this lecture, we will explore **compound, unsequenced (unordered) data structures** and learn how to manipulate them effectively. We will also learn how to work with **nested data structures**."
      ],
      "metadata": {
        "id": "nxY5eTfL9LpL"
      }
    },
    {
      "cell_type": "markdown",
      "source": [
        "# Dictionaries"
      ],
      "metadata": {
        "id": "SbwYWadl2Pt6"
      }
    },
    {
      "cell_type": "markdown",
      "source": [
        "A powerful compound data structure, representing a number of key-value pairs enclosed by curly braces.\n",
        "\n",
        "- Keys can be strings, integers or floats.\n",
        "\n",
        "- Values can be any data types (strings, integers or floats, lists, tuples, another dictionary)\n",
        "\n",
        "**Dictionaries are unordered**, so not indexed. You can explicitly call the keys to get their corresponding values/items.\n",
        "\n",
        "You can edit dictionaries, which means **dictionaries are mutable**.\n",
        "\n",
        "This key-value format helps us efficiently look up important values (e.g., in lookup tables).\n",
        "\n"
      ],
      "metadata": {
        "id": "uXjUsl0A7fg0"
      }
    },
    {
      "cell_type": "code",
      "source": [
        "# Example of a dictionary storing country information for Japan\n",
        "country_info = {\n",
        "    \"country\": \"Japan\",\n",
        "    \"capital\": \"Tokyo\",\n",
        "    \"population\": 125800000,  # Population in integers\n",
        "    \"gdp\": 4.937      # Gross Domestic Product in USD (in trillion)\n",
        "}\n"
      ],
      "metadata": {
        "id": "i0g31dxA8kDo"
      },
      "execution_count": 12,
      "outputs": []
    },
    {
      "cell_type": "markdown",
      "source": [
        "To obtain the **value of a specific key in a dictionary**, use the dictionary name followed by the key name enclosed in quotes within square brackets."
      ],
      "metadata": {
        "id": "El_nCe4t96Pw"
      }
    },
    {
      "cell_type": "code",
      "source": [
        "# Accessing the information\n",
        "print(\"Country:\", country_info[\"country\"])\n",
        "print(\"Capital:\", country_info[\"capital\"])\n",
        "print(\"Population:\", country_info[\"population\"])\n",
        "print(\"GDP (USD):\", country_info[\"gdp\"], \"Trillions\")"
      ],
      "metadata": {
        "colab": {
          "base_uri": "https://localhost:8080/"
        },
        "id": "uV9Uq4HM-YTj",
        "outputId": "e5ed666d-1b5c-4d21-9ba9-19aed2542443"
      },
      "execution_count": 13,
      "outputs": [
        {
          "output_type": "stream",
          "name": "stdout",
          "text": [
            "Country: Japan\n",
            "Capital: Tokyo\n",
            "Population: 125800000\n",
            "GDP (USD): 4.937 Trillions\n"
          ]
        }
      ]
    },
    {
      "cell_type": "markdown",
      "source": [
        "**Dictionaries are mutable**, and therefore we can easily add new key-value pairs."
      ],
      "metadata": {
        "id": "EF8YsL5G-mmh"
      }
    },
    {
      "cell_type": "code",
      "source": [
        "# Adding a new key-value pair for the official language\n",
        "country_info[\"official_language\"] = \"Japanese\"\n",
        "\n",
        "# Displaying the updated dictionary\n",
        "country_info"
      ],
      "metadata": {
        "colab": {
          "base_uri": "https://localhost:8080/"
        },
        "id": "obtIV3i1-oOl",
        "outputId": "65db8f6a-951e-417d-ab34-6db0a824e6bb"
      },
      "execution_count": 14,
      "outputs": [
        {
          "output_type": "execute_result",
          "data": {
            "text/plain": [
              "{'country': 'Japan',\n",
              " 'capital': 'Tokyo',\n",
              " 'population': 125800000,\n",
              " 'gdp': 4.937,\n",
              " 'official_language': 'Japanese'}"
            ]
          },
          "metadata": {},
          "execution_count": 14
        }
      ]
    },
    {
      "cell_type": "markdown",
      "source": [
        "You can also **modify a key's value**."
      ],
      "metadata": {
        "id": "yof2ui_2-7BV"
      }
    },
    {
      "cell_type": "code",
      "source": [
        "# Updating the value for key 'gdp'\n",
        "country_info[\"gdp\"] = 4.386\n",
        "\n",
        "# Displaying the updated dictionary\n",
        "country_info"
      ],
      "metadata": {
        "colab": {
          "base_uri": "https://localhost:8080/"
        },
        "id": "_E6CMxwt-6bq",
        "outputId": "d6329434-b843-4056-9402-21fd1830ac04"
      },
      "execution_count": 15,
      "outputs": [
        {
          "output_type": "execute_result",
          "data": {
            "text/plain": [
              "{'country': 'Japan',\n",
              " 'capital': 'Tokyo',\n",
              " 'population': 125800000,\n",
              " 'gdp': 4.386,\n",
              " 'official_language': 'Japanese'}"
            ]
          },
          "metadata": {},
          "execution_count": 15
        }
      ]
    },
    {
      "cell_type": "markdown",
      "source": [
        "# Sets"
      ],
      "metadata": {
        "id": "rQxwQmir_aIb"
      }
    },
    {
      "cell_type": "markdown",
      "source": [
        "A set only contains **a number of unique elements, enclosed with curly braces**. Unlike lists, sets cannot have repeated items, and unlike dictionaries, sets do not store key-value pairs—only unique values.\n",
        "\n",
        "**Sets are mutable, but unordered.**"
      ],
      "metadata": {
        "id": "jfLB7ZyH_beS"
      }
    },
    {
      "cell_type": "code",
      "source": [
        "my_set = {1, 2, 3, 4, 5}"
      ],
      "metadata": {
        "id": "ATimFm29xDKO"
      },
      "execution_count": 16,
      "outputs": []
    },
    {
      "cell_type": "markdown",
      "source": [
        "A key use case for sets is finding unique values, and/or then checking for inclusion/exclusion. Say, we have a list of students' age in a class, and we want to know the unique age years we have in this class. We can use the set() function for that."
      ],
      "metadata": {
        "id": "Mimw3L3Vx6jU"
      }
    },
    {
      "cell_type": "code",
      "source": [
        "# a list of students' age in a class\n",
        "age = [20, 21, 22, 22, 22, 21, 20, 19, 20]\n",
        "\n",
        "# get the unique set of ages\n",
        "age_set = set(age)\n",
        "\n",
        "# print the set\n",
        "print(age_set)"
      ],
      "metadata": {
        "colab": {
          "base_uri": "https://localhost:8080/"
        },
        "id": "lrHX3JOux6xe",
        "outputId": "4d5eb7d3-dc98-47e3-ef51-0dd435164061"
      },
      "execution_count": 17,
      "outputs": [
        {
          "output_type": "stream",
          "name": "stdout",
          "text": [
            "{19, 20, 21, 22}\n"
          ]
        }
      ]
    },
    {
      "cell_type": "markdown",
      "source": [
        "You can add more values to the set using **add()** function. Assume, we enrolled a new student of age 23 in this class, then we can update the age_set by adding this new age value."
      ],
      "metadata": {
        "id": "ICmWvsMbyvU1"
      }
    },
    {
      "cell_type": "code",
      "source": [
        "age_set.add(23)\n",
        "print(age_set)"
      ],
      "metadata": {
        "colab": {
          "base_uri": "https://localhost:8080/"
        },
        "id": "LXJUrfmgy03k",
        "outputId": "3462f50b-f6a6-4258-c3ad-227ee5ed44b0"
      },
      "execution_count": 18,
      "outputs": [
        {
          "output_type": "stream",
          "name": "stdout",
          "text": [
            "{19, 20, 21, 22, 23}\n"
          ]
        }
      ]
    },
    {
      "cell_type": "markdown",
      "source": [
        "# Nested data structures"
      ],
      "metadata": {
        "id": "t9Pt87BYugBI"
      }
    },
    {
      "cell_type": "markdown",
      "source": [
        "Compound data structures can again be nested, meaning that **one data structure inside another one**. The most common ones we use are: list of lists, list of tuples and list of dictionaries."
      ],
      "metadata": {
        "id": "Ix-MRdG9zzkF"
      }
    },
    {
      "cell_type": "markdown",
      "source": [
        "### Lists of lists\n",
        "In this case, multiple lists are nested within a single list, with each inner list separated by a comma."
      ],
      "metadata": {
        "id": "XDNPLQMpun7w"
      }
    },
    {
      "cell_type": "code",
      "source": [
        "# example of list of lists\n",
        "countries_in_continents = [\n",
        "    [\"USA\", \"Canada\", \"Mexico\"],               # North America\n",
        "    [\"Brazil\", \"Argentina\", \"Colombia\"],       # South America\n",
        "    [\"China\", \"India\", \"Japan\"],               # Asia\n",
        "    [\"Germany\", \"France\", \"Italy\"],            # Europe\n",
        "    [\"Nigeria\", \"Egypt\", \"South Africa\"],      # Africa\n",
        "    [\"Australia\", \"New Zealand\", \"Fiji\"]       # Oceania\n",
        "]\n"
      ],
      "metadata": {
        "id": "xihltT9Auup6"
      },
      "execution_count": 19,
      "outputs": []
    },
    {
      "cell_type": "markdown",
      "source": [
        "To access individual items from the nested lists, you need to use two index positions, each enclosed in square brackets.\n",
        "\n",
        "- The first index refers to the position of the inner list within the outer list.\n",
        "- The second index refers to the position of the item within that specific inner list."
      ],
      "metadata": {
        "id": "lnuiIc8vsmms"
      }
    },
    {
      "cell_type": "code",
      "source": [
        "# Accessing an element (e.g., \"India\" from Asia)\n",
        "print(countries_in_continents[2][1])  # Printing the second item (index 1) in the 3rd list (index 2)"
      ],
      "metadata": {
        "colab": {
          "base_uri": "https://localhost:8080/"
        },
        "id": "71Ke727ispAX",
        "outputId": "0360db33-db77-4140-9c99-fba02376dd4e"
      },
      "execution_count": 20,
      "outputs": [
        {
          "output_type": "stream",
          "name": "stdout",
          "text": [
            "India\n"
          ]
        }
      ]
    },
    {
      "cell_type": "markdown",
      "source": [
        "### List of tuples\n",
        "Similarly, we can nest multiple tuples within one list, each tuple separated by a comma. Accessing data from a list of tuples is the same as accessing data from a list of lists."
      ],
      "metadata": {
        "id": "WIzLzgAnsoIf"
      }
    },
    {
      "cell_type": "code",
      "source": [
        "# Line feature represented as a list of (latitude, longitude) tuples\n",
        "line_feature = [\n",
        "    (38.8951, -77.0364),  # Washington, D.C.\n",
        "    (39.9526, -75.1652),  # Philadelphia, PA\n",
        "    (40.7128, -74.0060),  # New York City, NY\n",
        "    (42.3601, -71.0589)   # Boston, MA\n",
        "]\n",
        "\n",
        "# Display the line feature\n",
        "print(line_feature[3][0]) # Printing the first item (index 0) in the 4rth tuple (index 3)"
      ],
      "metadata": {
        "colab": {
          "base_uri": "https://localhost:8080/"
        },
        "id": "vzzIkJ93svH3",
        "outputId": "bd1ebeda-7a8e-4883-ee42-62cf7bcdf63f"
      },
      "execution_count": 21,
      "outputs": [
        {
          "output_type": "stream",
          "name": "stdout",
          "text": [
            "42.3601\n"
          ]
        }
      ]
    },
    {
      "cell_type": "markdown",
      "source": [
        "### List of dictionaries"
      ],
      "metadata": {
        "id": "GezmoSCAttcU"
      }
    },
    {
      "cell_type": "markdown",
      "source": [
        "In this case, multiple dictionaries are stored within a single list, with each dictionary separated by a comma."
      ],
      "metadata": {
        "id": "VOBTTiRht2Mj"
      }
    },
    {
      "cell_type": "code",
      "source": [
        "# List of dictionaries representing countries with their details\n",
        "countries_info = [\n",
        "    {\n",
        "        \"country\": \"Japan\",\n",
        "        \"capital\": \"Tokyo\",\n",
        "        \"population\": 125800000,   # Population in numbers\n",
        "        \"gdp\": 4.937       # GDP in USD (in trillion)\n",
        "    },\n",
        "    {\n",
        "        \"country\": \"Germany\",\n",
        "        \"capital\": \"Berlin\",\n",
        "        \"population\": 83100000,    # Population in numbers\n",
        "        \"gdp\": 4.211       # GDP in USD (in trillion)\n",
        "    },\n",
        "    {\n",
        "        \"country\": \"Canada\",\n",
        "        \"capital\": \"Ottawa\",\n",
        "        \"population\": 38930000,    # Population in numbers\n",
        "        \"gdp\": 2.268       # GDP in USD (in trillion)\n",
        "    }\n",
        "]\n"
      ],
      "metadata": {
        "id": "hOgPxgecuKYD"
      },
      "execution_count": 22,
      "outputs": []
    },
    {
      "cell_type": "markdown",
      "source": [
        "\n",
        "To access specific data from the list of dictionaries, you need to use two steps:\n",
        "\n",
        "- First, use an index inside square brackets to refer to the position of the dictionary within the list.\n",
        "- Then, use the dictionary key (in quotes) to access the corresponding value."
      ],
      "metadata": {
        "id": "xbjg9vkytp1d"
      }
    },
    {
      "cell_type": "code",
      "source": [
        "print(f\"{countries_info[0]['country']}'s capital is {countries_info[0]['capital']}\")\n",
        "print(f\"{countries_info[1]['country']}'s capital is {countries_info[1]['capital']}\")\n",
        "print(f\"{countries_info[2]['country']}'s capital is {countries_info[2]['capital']}\")"
      ],
      "metadata": {
        "colab": {
          "base_uri": "https://localhost:8080/"
        },
        "id": "BioH3yS0tqdg",
        "outputId": "60f5712a-40cd-42b0-a09d-05964e4203ad"
      },
      "execution_count": 23,
      "outputs": [
        {
          "output_type": "stream",
          "name": "stdout",
          "text": [
            "Japan's capital is Tokyo\n",
            "Germany's capital is Berlin\n",
            "Canada's capital is Ottawa\n"
          ]
        }
      ]
    }
  ]
}