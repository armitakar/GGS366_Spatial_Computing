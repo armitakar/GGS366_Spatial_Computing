{
  "nbformat": 4,
  "nbformat_minor": 0,
  "metadata": {
    "colab": {
      "provenance": [],
      "authorship_tag": "ABX9TyO0XoncYE2FvxiBf8GdYla4",
      "include_colab_link": true
    },
    "kernelspec": {
      "name": "python3",
      "display_name": "Python 3"
    },
    "language_info": {
      "name": "python"
    }
  },
  "cells": [
    {
      "cell_type": "markdown",
      "metadata": {
        "id": "view-in-github",
        "colab_type": "text"
      },
      "source": [
        "<a href=\"https://colab.research.google.com/github/armitakar/GGS366_Spatial_Computing/blob/main/Lectures/1_1_Introduction_to_Spatial_Computing.ipynb\" target=\"_parent\"><img src=\"https://colab.research.google.com/assets/colab-badge.svg\" alt=\"Open In Colab\"/></a>"
      ]
    },
    {
      "cell_type": "markdown",
      "source": [
        "# What is spatial computing?"
      ],
      "metadata": {
        "id": "3zr1KNCpspYp"
      }
    },
    {
      "cell_type": "markdown",
      "source": [
        "The definitions of spatial computing vary across disciplines. In this course, we denote spatial computing as a bridge between *Computer and Information Science (CIScience)* and *Geographic Information Science (GIScience)*. As geographers and GIScientists, we define spatial computing as the process of handling, visualizing, and analyzing spatial or location-based data within a digital computing environment."
      ],
      "metadata": {
        "id": "jKresBDZsx1v"
      }
    },
    {
      "cell_type": "markdown",
      "source": [
        "Some key spatial computing concepts covered in this class include:\n",
        "\n",
        "*   ***Spatial Data Processing:*** Spatial data primarily exists in two formats—vector and raster—across different scales, from individual-level to aggregated data. Additionally, all spatial data contains non-spatial attributes. Before we map and analyze the data, spatial data often requires additional cleaning and preparations. Such processes include vector-raster conversions, spatial and non-spatial data merging, and performing overlays, aggregation, and generalization.\n",
        "\n",
        "      ![Image Description](https://static.wixstatic.com/media/3cd29b_1acd59fa18254af28e233f2d3065eb71~mv2.png/v1/fill/w_560,h_560,al_c,lg_1,q_85,enc_auto/3cd29b_1acd59fa18254af28e233f2d3065eb71~mv2.png)\n",
        "\n",
        "*  ***Data Visualization and Mapping:*** Data visualizations with charts and maps are fundamental to spatial computing, allowing us to illustrate and interpret spatial patterns. While traditional static maps have long been integral to spatial science, cartographic science nowadays strongly advocates for web-based maps to facilitate user interactions, crowdsourced data collection, and the democratization of geospatial information.\n",
        "Example: [Virginia Full Crashes Map](https://www.arcgis.com/apps/mapviewer/index.html?webmap=b086753548b248539d5d58a8710ce087)\n",
        "\n",
        "*   ***Spatial Data Analysis and Modeling:*** The core spatial analysis techniques, such as spatial autocorrelation, interpolation, clustering, and regression, enable us to examine spatial patterns, relationships, and interactions. Additionally, the recent boom in geospatial Artificial intelligence (GeoAI) equips us with accurate simulations and predictions of real-world spatiotemporal processes, further supporting data-driven decision-making.\n",
        "\n",
        "      ![Image Description](https://ars.els-cdn.com/content/image/1-s2.0-S0269749124004871-ga1.jpg)\n",
        "      \n",
        "      [Image source](https://www.sciencedirect.com/science/article/pii/S0269749124004871)"
      ],
      "metadata": {
        "id": "NFmdWGI2synX"
      }
    },
    {
      "cell_type": "markdown",
      "source": [
        "GIScientists commonly use Python programming for spatial computing, as it is one of the most powerful and versatile languages and forms the foundation of many spatial analytics tools, including ESRI ArcGIS and QGIS. Python-based spatial computing offers several benefits, including the ability to develop new computational algorithms, modify existing ones, and enhance computing efficiency, reproducibility, and scalability."
      ],
      "metadata": {
        "id": "ucbAyDXAtoQ9"
      }
    },
    {
      "cell_type": "markdown",
      "source": [
        "# Who uses spatial computing?"
      ],
      "metadata": {
        "id": "5_TUTVp7sHAA"
      }
    },
    {
      "cell_type": "markdown",
      "source": [
        "We now live in an era of geospatial big data, coming from multitudes of sources, including satellite and aerial imagery, mobile phone and other GPS-tracking devices, vehicle telematics, geo-tagged social media posts, sensor networks, and other Internet of Things (IoT). Industries such as transportation, health, real estate, disaster management, and Government and homeland security leverage these datasets to solve ongoing global and community challenges. Below are some key applications of spatial computing across these sectors:"
      ],
      "metadata": {
        "id": "vc8OPA19iiUH"
      }
    },
    {
      "cell_type": "markdown",
      "source": [
        "-\t**Transportation**: Public and private transportation agencies leverage high-resolution spatiotemporal mobility datasets for travel behavior assessments, road infrastructure design, congestion pricing models, fleet monitoring and management, and mass transportation service optimizations. [Check out how Washington Metropolitan Area Transit Authority (WMATA) monitors real-time bus and metro performance](https://www.wmata.com/about/news/MetroPulse-Bus-Launch.cfm).\n",
        "\n",
        "-\t**Health**: The healthcare sector has long used spatial data and computing for accessibility assessments, optimal service allocation, and social determinants of health evaluations. Furthermore, recent advancements in location intelligence have revolutionized healthcare sector by enabling infectious disease spread prediction and mapping, aiding identification of prevalent areas and targeted interventions.\n",
        "  ![Image Description](https://www.cdc.gov/heart-disease/media/images/fs_heart_disease-medium.jpg)\n",
        "\n",
        "-\t**Disaster Management**: Advanced spatial data collection techniques, such as satellites, drones, and other remote sensors play a crucial role in hazard monitoring, disaster prediction modeling, real-time disaster tracking, emergency response planning, and post-disaster recovery efforts.\n",
        "[Here you can see the devastating nature of California wildfire, 2025 through satellite images](https://www.dailymotion.com/video/x9c71ss)\n",
        "\n",
        "-\t**Real Estate**: Location intelligence is a key factor in real estate market analysis, property valuation, and site selection. Spatial computing helps analyze demographic trends, neighborhood characteristics, accessibility to amenities, and environmental risks, allowing investors, developers, and home buyers to make informed decisions. ![Example application](https://pub.mdpi-res.com/jrfm/jrfm-15-00139/article_deploy/html/images/jrfm-15-00139-g003.png?1647429014)\n",
        "\n",
        "\n",
        "-\t**Government and Homeland Security**: Governments use spatial computing for urban planning, land use management, and infrastructure development. Additionally, geospatial intelligence is critical in national security operations, including border surveillance, crime mapping, emergency response coordination, and risk assessment for critical infrastructure protection. [You can see the safest and the most dangerous places in fairfax County through this interactive map](https://crimegrade.org/safest-places-in-fairfax-county-va/)\n"
      ],
      "metadata": {
        "id": "6peE2Tv_uM_W"
      }
    },
    {
      "cell_type": "markdown",
      "source": [
        "With the increasing reliance on geospatial data across industries, the demand for spatial computing expertise continues to grow, making it a valuable skill set for professionals across multiple domains."
      ],
      "metadata": {
        "id": "7VsBn6NRuiJ5"
      }
    },
    {
      "cell_type": "markdown",
      "source": [
        "### Aditional reading\n",
        "-\tShekhar, S., Feiner, S. K., & Aref, W. G. (2015). Spatial computing. Communications of the ACM, 59(1), 72-81. [Article link](https://dl.acm.org/doi/pdf/10.1145/2756547)\n",
        "-\tMilner, G. (2024). [GIS and the Future of Spatial Computing](https://www.esri.com/about/newsroom/arcuser/spatial-computing/#:~:text=The%20term%20spatial%20computing%20dates,brought%20this%20idea%20to%20life.).\n",
        "- Esri. (n.d.). [Spatial analysis in ArcGIS Pro](https://pro.arcgis.com/en/pro-app/latest/help/analysis/introduction/spatial-analysis-in-arcgis-pro.htm)\n",
        "- University of Southern California. (2024).[What is spatial data analysis?](https://gis.usc.edu/blog/what-is-spatial-data-analysis/)\n",
        "- Bureau of Transportation Statistics. (2024). [Geospatial application and map gallery](https://www.bts.gov/product/geospatial-application-and-map-gallery#static). U.S. Department of Transportation.  \n",
        "- Institute for Health Metrics and Evaluation. (2019). [Spatial and spatio-temporal modelling](https://globalhealthdata.org/spatial-and-spatio-temporal-modelling/). Global Health Data Methods.\n",
        "- Crespi, A., Renner, K., Zebisch, M., Schauser, I., Leps, N., & Walter, A. (2023). Analysing spatial patterns of climate change: Climate clusters, hotspots and analogues to support climate risk assessment and communication in Germany. Climate Services, 30, 100373."
      ],
      "metadata": {
        "id": "UiHZpmXfulug"
      }
    }
  ]
}