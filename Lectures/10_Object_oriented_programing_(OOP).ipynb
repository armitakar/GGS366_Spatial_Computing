{
  "nbformat": 4,
  "nbformat_minor": 0,
  "metadata": {
    "colab": {
      "provenance": [],
      "authorship_tag": "ABX9TyMWQHU797j5N7lO2230lsLB",
      "include_colab_link": true
    },
    "kernelspec": {
      "name": "python3",
      "display_name": "Python 3"
    },
    "language_info": {
      "name": "python"
    }
  },
  "cells": [
    {
      "cell_type": "markdown",
      "metadata": {
        "id": "view-in-github",
        "colab_type": "text"
      },
      "source": [
        "<a href=\"https://colab.research.google.com/github/armitakar/GGS366_Spatial_Computing/blob/main/Lectures/10_Object_oriented_programing_(OOP).ipynb\" target=\"_parent\"><img src=\"https://colab.research.google.com/assets/colab-badge.svg\" alt=\"Open In Colab\"/></a>"
      ]
    },
    {
      "cell_type": "markdown",
      "source": [
        "Object-oriented programming (OOP) is a **structured approach to coding** that helps organize and reuse code efficiently. Most Python libraries are built using OOP principles. Understanding the basics of OOP allows us to read, reuse, and modify code within these libraries, as well as develop our own.\n",
        "\n",
        "In OOP, an **object** is an instance that contains specific **data/properties (attributes)** and **methods/behaviors (functions that operate on the data)**. A **class** serves as a **generic structure or blueprint for creating objects**, defining the required attributes and behaviors.\n",
        "\n",
        "For example, consider a Car class that defines a general structure for car objects. Each car object can have different properties such as color, price, mileage, and model, as well as specific behaviors such as start, stop etc. Using this Car class, we can create multiple car objects with unique properties and behaviors while maintaining a their consistent information structure.\n",
        "\n",
        "<img src=\"https://codersite.dev/assets/images/carClass.jpg\" alt=\"Image\" width=\"400\" height=\"300\">\n",
        "\n",
        "<img src=\"https://almablog-media.s3.ap-south-1.amazonaws.com/002_71de4627cf.png\" alt=\"Image\" width=\"400\" height=\"300\">\n",
        "\n",
        "\n"
      ],
      "metadata": {
        "id": "zVh9GmsItPxB"
      }
    },
    {
      "cell_type": "markdown",
      "source": [
        "# Objects and classes"
      ],
      "metadata": {
        "id": "1AW4ZN6852Al"
      }
    },
    {
      "cell_type": "markdown",
      "source": [
        "Let us examine an example below to understand how to implement an object class, for a generic city with attributes including a name, region, population, and area size.\n",
        "\n",
        "Things to note:\n",
        "\n",
        "- When we **specify that this is a class**, this is proceeded by the **name of the class**, usually capitalized, e.g., class City: (with a colon, as with a user-defined function).\n",
        "- On the second line we provide the **class attributes**, defined firstly using **def**, as we would a normal user-defined function. And then secondly, we **initialize the class using __ init __**. Then we specify the class attributes after defining self, e.g., def __ init __(self, name, region, population):. We do this to **refer the objects to themselves**.\n",
        "- We can then **define our attributes**, so for the name, we specify self.name.\n",
        "- Anything after this, **defined via a def statement is a method** (containing code to enable the class to have a certain behavior)."
      ],
      "metadata": {
        "id": "pLE3mULw6bUT"
      }
    },
    {
      "cell_type": "code",
      "execution_count": 1,
      "metadata": {
        "colab": {
          "base_uri": "https://localhost:8080/"
        },
        "id": "kpII5afHsQKu",
        "outputId": "475e76b2-9567-4e27-eaf7-5b6fc413e091"
      },
      "outputs": [
        {
          "output_type": "stream",
          "name": "stdout",
          "text": [
            "<class '__main__.City'>\n",
            "<function City.calc_pop_density at 0x78d26c0e3ec0>\n"
          ]
        }
      ],
      "source": [
        "# Example: Specifying a class named City that can create information about multiple cities\n",
        "class City:\n",
        "    def __init__(self, name, region, population, area_km2):\n",
        "        # object attributes\n",
        "        self.name = name\n",
        "        self.region = region\n",
        "        self.population = population\n",
        "        self.area_km2 = area_km2\n",
        "\n",
        "    def calc_pop_density(self):\n",
        "        # object methods\n",
        "        pop_density_km2 = round(self.population / self.area_km2)\n",
        "        return pop_density_km2\n",
        "\n",
        "print(City) # here we are told this is a class\n",
        "print(City.calc_pop_density) # here we are told this is a function"
      ]
    },
    {
      "cell_type": "markdown",
      "source": [
        "\n",
        "Now we have defined this class, we can **instantiate it by stating the class name**, e.g., City(), **followed by the required data attributes**.\n",
        "\n",
        "In Python, when we instantiate we are creating an object (an instance of a class), and initializing its affiliated attributes and methods.\n",
        "\n",
        "Thus, we are able to instantiate our object and allocate it to the variable my_city, creating a new city object.\n",
        "\n",
        "Note that you need to provide arguments (attributes) for all required class parameters. Otherwise, it will prompt you an error."
      ],
      "metadata": {
        "id": "oWuk7t137Ejl"
      }
    },
    {
      "cell_type": "code",
      "source": [
        "# Example: Instantiating a class\n",
        "my_city = City('Richmond','Virginia', 226610, 152)\n",
        "\n",
        "# Thus, `my_city` has become an object created from City class.\n",
        "print(my_city)"
      ],
      "metadata": {
        "colab": {
          "base_uri": "https://localhost:8080/"
        },
        "id": "rfJOywEY7uZY",
        "outputId": "812e7a4a-9115-40e5-c1c0-c70d54bc6aa0"
      },
      "execution_count": 2,
      "outputs": [
        {
          "output_type": "stream",
          "name": "stdout",
          "text": [
            "<__main__.City object at 0x78d26c10a690>\n"
          ]
        }
      ]
    },
    {
      "cell_type": "markdown",
      "source": [
        "We can now **access our class attribute**s as follows, by **calling the object variable followed by the attribute name**.\n",
        "\n",
        "For example, below we can print the name, region, and population of our class."
      ],
      "metadata": {
        "id": "ZgPkKhtx87Aj"
      }
    },
    {
      "cell_type": "code",
      "source": [
        "# Example: Instantiating a class\n",
        "print(my_city.name)\n",
        "print(my_city.region)\n",
        "print(my_city.population)"
      ],
      "metadata": {
        "colab": {
          "base_uri": "https://localhost:8080/"
        },
        "id": "67ERe0bI89Hm",
        "outputId": "028f3904-c39e-4368-9dc9-da4613a10d44"
      },
      "execution_count": 3,
      "outputs": [
        {
          "output_type": "stream",
          "name": "stdout",
          "text": [
            "Richmond\n",
            "Virginia\n",
            "226610\n"
          ]
        }
      ]
    },
    {
      "cell_type": "markdown",
      "source": [
        "\n",
        "We can also **access the methods** associated with our class by **calling the class object name**, such as my_city, and then **followed by the method name**, such as .calc_pop_density()."
      ],
      "metadata": {
        "id": "Mp6EzP0H8_-Y"
      }
    },
    {
      "cell_type": "code",
      "source": [
        "# Example: Calling an object method\n",
        "print(my_city.calc_pop_density())"
      ],
      "metadata": {
        "colab": {
          "base_uri": "https://localhost:8080/"
        },
        "id": "WJC-dopv8_lk",
        "outputId": "b167b183-e15c-4718-c7ab-7d71baa354a7"
      },
      "execution_count": 4,
      "outputs": [
        {
          "output_type": "stream",
          "name": "stdout",
          "text": [
            "1491\n"
          ]
        }
      ]
    },
    {
      "cell_type": "markdown",
      "source": [
        "Now that you have seen how we create and instantiate objects and classes, we can consider some theoretical concepts pertaining to OOP."
      ],
      "metadata": {
        "id": "8UiRsnv4-pB4"
      }
    },
    {
      "cell_type": "markdown",
      "source": [
        "# The Principle of Encapsulation"
      ],
      "metadata": {
        "id": "-Rw-KO1A-xnd"
      }
    },
    {
      "cell_type": "markdown",
      "source": [
        "Firstly, the principle of encapsulation broadly means the action of enclosing something. Through encapsulation, we can **restrict direct access to an object’s data** and **modifying it only through controlled mechanisms**.\n",
        "\n",
        "In general, encapsulation encourages analysts to write modular and reusable code, with key **privacy and security advantages**. We can control access to data attributes and protect them from unnecessary modifications.\n",
        "\n"
      ],
      "metadata": {
        "id": "QD0nycLE-05F"
      }
    },
    {
      "cell_type": "markdown",
      "source": [
        "### Example of Encapsulation"
      ],
      "metadata": {
        "id": "bT4A0bJ2-9r8"
      }
    },
    {
      "cell_type": "markdown",
      "source": [
        "Imagine we have a **Road class** that defines **generic attributes such as length and altitude** for different road objects. Encapsulation helps protect these attributes from unintended modifications by restricting direct access to them.\n",
        "\n",
        "For instance, we can put a single or double underscore before the attribute name, indicating that this attribute is protected/private and only for usage within the class or its subclasses."
      ],
      "metadata": {
        "id": "WsCQMFZE_ApB"
      }
    },
    {
      "cell_type": "code",
      "source": [
        "class Road:\n",
        "    def __init__(self, length, altitude):\n",
        "        self.length = length        # attribute is unprotected\n",
        "        self._altitude = altitude   # attribute is protected"
      ],
      "metadata": {
        "id": "vUAvZXgsUsiD"
      },
      "execution_count": 5,
      "outputs": []
    },
    {
      "cell_type": "code",
      "source": [
        "# Creating a Road object\n",
        "road = Road(1000, 50)"
      ],
      "metadata": {
        "id": "5eDy_mR0UxKG"
      },
      "execution_count": 6,
      "outputs": []
    },
    {
      "cell_type": "code",
      "source": [
        "# Accessing unprotected attribute\n",
        "road.length"
      ],
      "metadata": {
        "colab": {
          "base_uri": "https://localhost:8080/"
        },
        "id": "YwopCrKzVBYK",
        "outputId": "965a19b8-172e-4055-de02-18f490ecca05"
      },
      "execution_count": 7,
      "outputs": [
        {
          "output_type": "execute_result",
          "data": {
            "text/plain": [
              "1000"
            ]
          },
          "metadata": {},
          "execution_count": 7
        }
      ]
    },
    {
      "cell_type": "code",
      "source": [
        "# Accessing protected attribute\n",
        "# you can try calling the parameter name as it is, but it will promt you an error\n",
        "road.altitude"
      ],
      "metadata": {
        "colab": {
          "base_uri": "https://localhost:8080/",
          "height": 181
        },
        "id": "2Qz4sAquVDnH",
        "outputId": "1daa71b3-f1b3-4914-dfd1-cb002a973b26"
      },
      "execution_count": 8,
      "outputs": [
        {
          "output_type": "error",
          "ename": "AttributeError",
          "evalue": "'Road' object has no attribute 'altitude'",
          "traceback": [
            "\u001b[0;31m---------------------------------------------------------------------------\u001b[0m",
            "\u001b[0;31mAttributeError\u001b[0m                            Traceback (most recent call last)",
            "\u001b[0;32m<ipython-input-8-51e7104d843f>\u001b[0m in \u001b[0;36m<cell line: 0>\u001b[0;34m()\u001b[0m\n\u001b[1;32m      1\u001b[0m \u001b[0;31m# Accessing protected attribute\u001b[0m\u001b[0;34m\u001b[0m\u001b[0;34m\u001b[0m\u001b[0m\n\u001b[1;32m      2\u001b[0m \u001b[0;31m# you can try calling the parameter name as it is, but it will promt you an error\u001b[0m\u001b[0;34m\u001b[0m\u001b[0;34m\u001b[0m\u001b[0m\n\u001b[0;32m----> 3\u001b[0;31m \u001b[0mroad\u001b[0m\u001b[0;34m.\u001b[0m\u001b[0maltitude\u001b[0m\u001b[0;34m\u001b[0m\u001b[0;34m\u001b[0m\u001b[0m\n\u001b[0m",
            "\u001b[0;31mAttributeError\u001b[0m: 'Road' object has no attribute 'altitude'"
          ]
        }
      ]
    },
    {
      "cell_type": "markdown",
      "source": [
        "However, this is more like **a convention, not stricly enforced** in Python. You can still access the attribute inforation and modify it outside of class if needed."
      ],
      "metadata": {
        "id": "EXglOmMNZ_lH"
      }
    },
    {
      "cell_type": "code",
      "source": [
        "# Accessing protected attribute (not recommended)\n",
        "road._altitude"
      ],
      "metadata": {
        "colab": {
          "base_uri": "https://localhost:8080/"
        },
        "id": "d7PAQmhUZ_Iq",
        "outputId": "0bab9f30-b0b5-4244-a2ed-7ef51f58f333"
      },
      "execution_count": 9,
      "outputs": [
        {
          "output_type": "execute_result",
          "data": {
            "text/plain": [
              "50"
            ]
          },
          "metadata": {},
          "execution_count": 9
        }
      ]
    },
    {
      "cell_type": "code",
      "source": [
        "# Modifying protected attribute (not recommended)\n",
        "road._altitude = 100"
      ],
      "metadata": {
        "id": "GKGE5b8daRGn"
      },
      "execution_count": 10,
      "outputs": []
    },
    {
      "cell_type": "markdown",
      "source": [
        "\n",
        "# The Principle of Inheritance"
      ],
      "metadata": {
        "id": "8--KHE-g_HLy"
      }
    },
    {
      "cell_type": "markdown",
      "source": [
        "The concept of inheritance enables a programer to **specify a meta-class (parent class) with generic attributes and methods**, and then to allocate **subclasses (child class) which inherit these properties**.\n",
        "\n",
        "There are numerous benefits. For example, by utilizing **code re-usability** we can be **less verbose**. This is not only handy because we use fewer lines of code, making it easier to read and understand a data processing pipeline. But also because when we do need to **edit code functionality**, we only have to **do so in one place** (similar to modularizing repeated actions into user-defined functions).\n"
      ],
      "metadata": {
        "id": "14mmA4v0_L_o"
      }
    },
    {
      "cell_type": "markdown",
      "source": [
        "### Example of Inheritance"
      ],
      "metadata": {
        "id": "v_yeo4-c_N3A"
      }
    },
    {
      "cell_type": "markdown",
      "source": [
        "By using inheritance, we can create a **hierarchy of classes** where subclasses inherit attributes and methods from a parent class.\n",
        "\n",
        "One example would be specifying a **generic polygon class** that has a **geometry attribute** and a **method to calculate area** for that geometry. Then, we can create specialized subclasses—such as State, County, City, and CensusBlock—that inherit from this generic class, allowing them to calculate areas for their respective administrative boundaries."
      ],
      "metadata": {
        "id": "zlI5Szs5_TQK"
      }
    },
    {
      "cell_type": "code",
      "source": [
        "# Parent class\n",
        "class MetaPolygon:\n",
        "    def __init__(self, geometry):\n",
        "        self.geometry = geometry\n",
        "\n",
        "    def calculate(self):\n",
        "        return self.geometry.area  # calculating area for the geometry\n",
        "\n",
        "# Child class that inherits all attributes of the parent class, but do not have any additional attribute\n",
        "class City(MetaPolygon):\n",
        "    pass\n",
        "\n",
        "# Child class that inherits from the parent class and adds an additional attribute\n",
        "class County(MetaPolygon):\n",
        "    def __init__(self, geometry, name):\n",
        "        self.name = name\n",
        "        super().__init__(geometry)  # Use super() to refer to the parent class\n",
        "\n",
        "\n",
        "\n"
      ],
      "metadata": {
        "id": "0M1HVPoedOGt"
      },
      "execution_count": 11,
      "outputs": []
    },
    {
      "cell_type": "code",
      "source": [
        "from shapely.geometry import Polygon, LineString, Point\n",
        "\n",
        "# creating arbritary geometries\n",
        "city_geom = Polygon([(0, 0), (4, 0), (4, 4), (0, 4)])  # A square with area 16\n",
        "county_geom = Polygon([(0, 0), (2, 0), (2, 2), (0, 2)])  # A square with area 4\n",
        "\n",
        "# creating class objects using those geometries as input\n",
        "city = City(city_geom)\n",
        "county = County(county_geom, \"Fairfax\")\n",
        "\n",
        "# printing the geometry area\n",
        "print(\"City area:\", city.calculate())\n",
        "print(\"County area:\", county.calculate(), \"Name:\", county.name)"
      ],
      "metadata": {
        "colab": {
          "base_uri": "https://localhost:8080/"
        },
        "id": "DnUBFeY4dhkA",
        "outputId": "5fc246a3-26c6-4703-aa56-f5fa6fe32de0"
      },
      "execution_count": 12,
      "outputs": [
        {
          "output_type": "stream",
          "name": "stdout",
          "text": [
            "City area: 16.0\n",
            "County area: 4.0 Name: Fairfax\n"
          ]
        }
      ]
    },
    {
      "cell_type": "markdown",
      "source": [
        "Additionally, it is possible in Python for **subclasses to receive multiple inheritance** - a new subclass inheriting properties and functionality from one or more parent-classes.\n"
      ],
      "metadata": {
        "id": "LHLzLYxQtvNx"
      }
    },
    {
      "cell_type": "markdown",
      "source": [
        "# The Principle of Polymorphism"
      ],
      "metadata": {
        "id": "2gsoEwJEO1Rb"
      }
    },
    {
      "cell_type": "markdown",
      "source": [
        "Polymorphism allows **objects from different classes to respond to the same method call in different ways**, based on their specific implementations.\n",
        "\n",
        "A practical example of polymorphism is when **all sub-classes inherit from a common parent class** and **override its methods to enable class-specific behavior**. This ensures that each object behaves appropriately while still being treated as an instance of the parent class.\n",
        "\n",
        "This technique, known as **method overriding**, is useful in GIS/spatial processing because it enables flexibility in updating, debugging, and making changes across different spatial data structures without modifying the core logic."
      ],
      "metadata": {
        "id": "y4ReXPDKO2sx"
      }
    },
    {
      "cell_type": "markdown",
      "source": [
        "### Example of Polymorphism"
      ],
      "metadata": {
        "id": "JUY-265jO77H"
      }
    },
    {
      "cell_type": "markdown",
      "source": [
        "Say, in our previous example, we might also have subclasses that are **not polygon-based features**. In such cases, area calculation wouldn’t be applicable, so we need to **override the method to perform an appropriate operation**—such as calculating length for line features or retrieving coordinates for point features.\n",
        "\n",
        "This ensures that each spatial feature type handles the calculate() method in a way that aligns with its geometry type."
      ],
      "metadata": {
        "id": "MkGVh--6PBGx"
      }
    },
    {
      "cell_type": "code",
      "source": [
        "# Example polymorphism\n",
        "# Parent class\n",
        "class MetaPolygon:\n",
        "    def __init__(self, geometry):\n",
        "        self.geometry = geometry\n",
        "\n",
        "    def calculate(self):\n",
        "        # Default behavior (for polygons)\n",
        "        return self.geometry.area\n",
        "\n",
        "# Child class inheriting from MetaPolygon\n",
        "class City(MetaPolygon):\n",
        "    pass\n",
        "\n",
        "# New subclass for roads that calculates length\n",
        "class Road(MetaPolygon):\n",
        "    def calculate(self):\n",
        "        # Roads are measured by length, not area\n",
        "        return self.geometry.length\n",
        "\n",
        "# New subclass for buildings that return coordinates\n",
        "class Building(MetaPolygon):\n",
        "    def calculate(self):\n",
        "        # For buildings, return the location coordinates\n",
        "        return self.geometry.x, self.geometry.y"
      ],
      "metadata": {
        "id": "8BsKzWBpmOxv"
      },
      "execution_count": 13,
      "outputs": []
    },
    {
      "cell_type": "code",
      "source": [
        "# creating arbritary geometries\n",
        "city_geom = Polygon([(0, 0), (4, 0), (4, 4), (0, 4)])  # A polygon (area 16)\n",
        "road_geom = LineString([(0, 0), (0, 5), (5, 5)])       # A road (length 10)\n",
        "building_geom = Point(2, 2)                            # A building (location coordinates)\n",
        "\n",
        "# creating class objects using those geometries as input\n",
        "city = City(city_geom)\n",
        "road = Road(road_geom)\n",
        "building = Building(building_geom)\n",
        "\n",
        "# demonstrating polymorphism: different objects use `calculate()` in different ways\n",
        "for obj in (city, road, building):\n",
        "    print(\"Geometry calculation:\", obj.calculate())\n",
        "\n",
        "\n"
      ],
      "metadata": {
        "colab": {
          "base_uri": "https://localhost:8080/"
        },
        "id": "0iqNE7LqxzB9",
        "outputId": "2764b391-9732-4940-c33f-091864cae5c4"
      },
      "execution_count": 14,
      "outputs": [
        {
          "output_type": "stream",
          "name": "stdout",
          "text": [
            "Geometry calculation: 16.0\n",
            "Geometry calculation: 10.0\n",
            "Geometry calculation: (2.0, 2.0)\n"
          ]
        }
      ]
    },
    {
      "cell_type": "markdown",
      "source": [
        "# The Principle of Abstraction"
      ],
      "metadata": {
        "id": "WMDwPqQyPDZM"
      }
    },
    {
      "cell_type": "markdown",
      "source": [
        "Abstraction allows us to **expose only the essential features of a class** while **hiding the internal complexity**. This makes it easier for users to interact with an object without needing to understand the underlying implementation.\n",
        "\n",
        "Instead of focusing on how an object performs its operations (which might involve complex code), abstraction ensures **we only present what the object does—providing a simplified and user-friendly interface**."
      ],
      "metadata": {
        "id": "IxvX92MjPHNQ"
      }
    },
    {
      "cell_type": "markdown",
      "source": [
        "### Example of Abstraction"
      ],
      "metadata": {
        "id": "6cZwX6T3PJZi"
      }
    },
    {
      "cell_type": "markdown",
      "source": [
        "When using a web-GIS interface, the **simple map display** we engage with **hides away complex rendering algorithms and geographic data structures**.\n",
        "\n",
        "Thus, normal GUI non-technical users can interact with our mapped data through logical and familiar methods such as zooming or panning.\n",
        "\n",
        "Subsequently, it is not necessary for a user to understand how these processes take place, merely the general purpose of a behavior.\n",
        "\n",
        "This is handy because we are essentially hiding unnecessary complexity, enabling us to create **user-friendly mapping software**."
      ],
      "metadata": {
        "id": "RLD-Wy_0PNVF"
      }
    }
  ]
}