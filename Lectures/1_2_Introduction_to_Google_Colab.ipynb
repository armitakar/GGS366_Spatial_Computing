{
  "nbformat": 4,
  "nbformat_minor": 0,
  "metadata": {
    "colab": {
      "provenance": [],
      "authorship_tag": "ABX9TyNIZjinizwhA5OklIS9l2Fi",
      "include_colab_link": true
    },
    "kernelspec": {
      "name": "python3",
      "display_name": "Python 3"
    },
    "language_info": {
      "name": "python"
    }
  },
  "cells": [
    {
      "cell_type": "markdown",
      "metadata": {
        "id": "view-in-github",
        "colab_type": "text"
      },
      "source": [
        "<a href=\"https://colab.research.google.com/github/armitakar/GGS366_Spatial_Computing/blob/main/Lectures/1_2_Introduction_to_Google_Colab.ipynb\" target=\"_parent\"><img src=\"https://colab.research.google.com/assets/colab-badge.svg\" alt=\"Open In Colab\"/></a>"
      ]
    },
    {
      "cell_type": "markdown",
      "source": [
        "# What is Google Colab?"
      ],
      "metadata": {
        "id": "10A67ym_cmMe"
      }
    },
    {
      "cell_type": "markdown",
      "source": [
        "A free, cloud-based notebook environment hosted and maintained by Google for writing and executing Python code. Beyond coding, it supports narratives, equations, data analysis, and visualizations, making it a versatile and interactive platform for creating, sharing, and collaborating on computational documents.\n",
        "\n",
        "Using Google Colab requires:\n",
        "1.\tA Google account with Google Drive\n",
        "2.\tAn internet connection (e.g., >10 Mbps)\n",
        "\n",
        "\n",
        "For more information, [see here](https://colab.research.google.com/?hl=en-GB#)\n"
      ],
      "metadata": {
        "id": "LeppJZTBcyvQ"
      }
    },
    {
      "cell_type": "markdown",
      "source": [
        "### Advantages\n",
        "\n",
        "*   No setup required: Commonly used Python libraries, such as numpy, matplotlib, TensorFlow are pre-installed.\n",
        "*   Collaborative work environment: Colab notebooks can be easily shared and edited simultaneously by multiple users.\n",
        "*   Free access to the graphics processing unit (GPU) and tensor processing unit (TPU): Computationally intensive tasks can be efficiently performed regardless of the computational power of your local machine.\n",
        "\n",
        "\n",
        "### Disdvantages\n",
        "\n",
        "*   Limited GPU/TPU usage with the free version of Google Colab.\n",
        "*   Data can only be imported from Colab notebook storage or Google Drive storage. Big datasets may exceed these storage capacities.\n",
        "*   Any additional libraries require (re)installing every time you (re)connect to a Google Colab notebook.\n"
      ],
      "metadata": {
        "id": "2d-EMg2gfGLf"
      }
    },
    {
      "cell_type": "markdown",
      "source": [
        "# How to use a Colab notebook?"
      ],
      "metadata": {
        "id": "ovgz9bJshQNt"
      }
    },
    {
      "cell_type": "markdown",
      "source": [
        "### Getting started and creating a new notebook"
      ],
      "metadata": {
        "id": "V1qieDAtibYi"
      }
    },
    {
      "cell_type": "markdown",
      "source": [
        "It’s very easy; just search for Google Colab and sign in with your Gmail account. A pop-up window will appear. You can click **New notebook** to create a new notebook. Once it’s open, you can rename the notebook as appropriate from the top-left corner."
      ],
      "metadata": {
        "id": "_luaGhkxixAf"
      }
    },
    {
      "cell_type": "markdown",
      "source": [
        "### Navigating within Colab Notebook"
      ],
      "metadata": {
        "id": "qzTyU09qmqwj"
      }
    },
    {
      "cell_type": "markdown",
      "source": [
        "The right side of the Colab notebook is known as *Editor*, allowing you to add two types of cells:  \n",
        "\n",
        "***Code cells*** are for writing and executing Python codes. Click the **play icon** on the left or press **Cmd/Ctrl+Enter** to run the cell in place. **Alt+Enter** will run the cell and insert a new code cell immediately below it.\n",
        "You can also write **in-line comments** into our code cells by using the pound sign e.g., '#'. Using # indicates to Python that you want to ignore whatever is written on the right-hand side of this line.\n",
        "\n",
        "***Text cells*** are used to add other narratives and images. The text cell follows Markdown syntax, a simple markup language for outlining a document text/image layout and presentation format. Here, [you can see some examples of Markdown syntax](https://colab.research.google.com/notebooks/markdown_guide.ipynb).  \n",
        "\n",
        "You can also **convert a code cell to a text cell by pressing Cmd/Ctrl + M M**.\n"
      ],
      "metadata": {
        "id": "yPOs2f83m710"
      }
    },
    {
      "cell_type": "code",
      "source": [
        "# printing sum of 2 and 3\n",
        "print(2 + 3)\n",
        "# print(2-3)"
      ],
      "metadata": {
        "colab": {
          "base_uri": "https://localhost:8080/"
        },
        "id": "5njazS37oHiw",
        "outputId": "80ff8172-5573-41cb-8ca5-2fa6d65165a1"
      },
      "execution_count": null,
      "outputs": [
        {
          "output_type": "stream",
          "name": "stdout",
          "text": [
            "5\n"
          ]
        }
      ]
    },
    {
      "cell_type": "markdown",
      "source": [
        "Each code/text cell has two modes:\n",
        "\n",
        "***Edit mode***. Press enter (or double-click) on a cell to directly edit the contents you are located on.\n",
        "\n",
        "***Command mode***. Press escape to exit a cell and then navigate elsewhere.\n",
        "\n",
        "Once you are in command mode, it is possible to navigate using the up or down arrows on your keyboard navigation section.\n",
        "\n",
        "Pressing shift and up/down will allow you to multiple highlight (e.g., in preparation for a copy/paste)."
      ],
      "metadata": {
        "id": "ielhbpZYoH6y"
      }
    },
    {
      "cell_type": "markdown",
      "source": [
        "### Importing data"
      ],
      "metadata": {
        "id": "nrKPknpKo1DP"
      }
    },
    {
      "cell_type": "markdown",
      "source": [
        "Google colab cannot read data directly from local machine. You can use the following method to do so:\n",
        "\n",
        "**Method 1: Using the File Upload Feature**\n",
        "1.\tClick on the Files tab on the left sidebar.\n",
        "2.\tClick on Upload to session storage.\n",
        "3.\tSelect the file you want to upload from your local machine.\n",
        "\n",
        "**Method 2: Mounting Google Drive**\n",
        "\n"
      ],
      "metadata": {
        "id": "LUnt5osxo4kS"
      }
    },
    {
      "cell_type": "code",
      "source": [
        "# Mount your Google Drive\n",
        "from google.colab import drive\n",
        "drive.mount('/content/drive')\n"
      ],
      "metadata": {
        "colab": {
          "base_uri": "https://localhost:8080/"
        },
        "id": "KnhXgd25pI0f",
        "outputId": "1dccd6f4-fba3-4b0e-83bb-fd0fe78dde57"
      },
      "execution_count": null,
      "outputs": [
        {
          "output_type": "stream",
          "name": "stdout",
          "text": [
            "Mounted at /content/drive\n"
          ]
        }
      ]
    },
    {
      "cell_type": "markdown",
      "source": [
        "**Method 3: Using the files module**"
      ],
      "metadata": {
        "id": "8ShYKxfQpeOo"
      }
    },
    {
      "cell_type": "code",
      "source": [
        "# Import the files module\n",
        "from google.colab import files\n",
        "# re-direct to upload the files option\n",
        "uploaded = files.upload()\n",
        "# once prompted, select the file from yor local machine"
      ],
      "metadata": {
        "colab": {
          "base_uri": "https://localhost:8080/",
          "height": 37
        },
        "id": "RxHBoeaqpwPq",
        "outputId": "f631eb64-08bc-4ecf-cef6-9628c4d11266"
      },
      "execution_count": null,
      "outputs": [
        {
          "output_type": "display_data",
          "data": {
            "text/plain": [
              "<IPython.core.display.HTML object>"
            ],
            "text/html": [
              "\n",
              "     <input type=\"file\" id=\"files-3cf7fd9b-d961-4c22-998f-ed8ee82f802d\" name=\"files[]\" multiple disabled\n",
              "        style=\"border:none\" />\n",
              "     <output id=\"result-3cf7fd9b-d961-4c22-998f-ed8ee82f802d\">\n",
              "      Upload widget is only available when the cell has been executed in the\n",
              "      current browser session. Please rerun this cell to enable.\n",
              "      </output>\n",
              "      <script>// Copyright 2017 Google LLC\n",
              "//\n",
              "// Licensed under the Apache License, Version 2.0 (the \"License\");\n",
              "// you may not use this file except in compliance with the License.\n",
              "// You may obtain a copy of the License at\n",
              "//\n",
              "//      http://www.apache.org/licenses/LICENSE-2.0\n",
              "//\n",
              "// Unless required by applicable law or agreed to in writing, software\n",
              "// distributed under the License is distributed on an \"AS IS\" BASIS,\n",
              "// WITHOUT WARRANTIES OR CONDITIONS OF ANY KIND, either express or implied.\n",
              "// See the License for the specific language governing permissions and\n",
              "// limitations under the License.\n",
              "\n",
              "/**\n",
              " * @fileoverview Helpers for google.colab Python module.\n",
              " */\n",
              "(function(scope) {\n",
              "function span(text, styleAttributes = {}) {\n",
              "  const element = document.createElement('span');\n",
              "  element.textContent = text;\n",
              "  for (const key of Object.keys(styleAttributes)) {\n",
              "    element.style[key] = styleAttributes[key];\n",
              "  }\n",
              "  return element;\n",
              "}\n",
              "\n",
              "// Max number of bytes which will be uploaded at a time.\n",
              "const MAX_PAYLOAD_SIZE = 100 * 1024;\n",
              "\n",
              "function _uploadFiles(inputId, outputId) {\n",
              "  const steps = uploadFilesStep(inputId, outputId);\n",
              "  const outputElement = document.getElementById(outputId);\n",
              "  // Cache steps on the outputElement to make it available for the next call\n",
              "  // to uploadFilesContinue from Python.\n",
              "  outputElement.steps = steps;\n",
              "\n",
              "  return _uploadFilesContinue(outputId);\n",
              "}\n",
              "\n",
              "// This is roughly an async generator (not supported in the browser yet),\n",
              "// where there are multiple asynchronous steps and the Python side is going\n",
              "// to poll for completion of each step.\n",
              "// This uses a Promise to block the python side on completion of each step,\n",
              "// then passes the result of the previous step as the input to the next step.\n",
              "function _uploadFilesContinue(outputId) {\n",
              "  const outputElement = document.getElementById(outputId);\n",
              "  const steps = outputElement.steps;\n",
              "\n",
              "  const next = steps.next(outputElement.lastPromiseValue);\n",
              "  return Promise.resolve(next.value.promise).then((value) => {\n",
              "    // Cache the last promise value to make it available to the next\n",
              "    // step of the generator.\n",
              "    outputElement.lastPromiseValue = value;\n",
              "    return next.value.response;\n",
              "  });\n",
              "}\n",
              "\n",
              "/**\n",
              " * Generator function which is called between each async step of the upload\n",
              " * process.\n",
              " * @param {string} inputId Element ID of the input file picker element.\n",
              " * @param {string} outputId Element ID of the output display.\n",
              " * @return {!Iterable<!Object>} Iterable of next steps.\n",
              " */\n",
              "function* uploadFilesStep(inputId, outputId) {\n",
              "  const inputElement = document.getElementById(inputId);\n",
              "  inputElement.disabled = false;\n",
              "\n",
              "  const outputElement = document.getElementById(outputId);\n",
              "  outputElement.innerHTML = '';\n",
              "\n",
              "  const pickedPromise = new Promise((resolve) => {\n",
              "    inputElement.addEventListener('change', (e) => {\n",
              "      resolve(e.target.files);\n",
              "    });\n",
              "  });\n",
              "\n",
              "  const cancel = document.createElement('button');\n",
              "  inputElement.parentElement.appendChild(cancel);\n",
              "  cancel.textContent = 'Cancel upload';\n",
              "  const cancelPromise = new Promise((resolve) => {\n",
              "    cancel.onclick = () => {\n",
              "      resolve(null);\n",
              "    };\n",
              "  });\n",
              "\n",
              "  // Wait for the user to pick the files.\n",
              "  const files = yield {\n",
              "    promise: Promise.race([pickedPromise, cancelPromise]),\n",
              "    response: {\n",
              "      action: 'starting',\n",
              "    }\n",
              "  };\n",
              "\n",
              "  cancel.remove();\n",
              "\n",
              "  // Disable the input element since further picks are not allowed.\n",
              "  inputElement.disabled = true;\n",
              "\n",
              "  if (!files) {\n",
              "    return {\n",
              "      response: {\n",
              "        action: 'complete',\n",
              "      }\n",
              "    };\n",
              "  }\n",
              "\n",
              "  for (const file of files) {\n",
              "    const li = document.createElement('li');\n",
              "    li.append(span(file.name, {fontWeight: 'bold'}));\n",
              "    li.append(span(\n",
              "        `(${file.type || 'n/a'}) - ${file.size} bytes, ` +\n",
              "        `last modified: ${\n",
              "            file.lastModifiedDate ? file.lastModifiedDate.toLocaleDateString() :\n",
              "                                    'n/a'} - `));\n",
              "    const percent = span('0% done');\n",
              "    li.appendChild(percent);\n",
              "\n",
              "    outputElement.appendChild(li);\n",
              "\n",
              "    const fileDataPromise = new Promise((resolve) => {\n",
              "      const reader = new FileReader();\n",
              "      reader.onload = (e) => {\n",
              "        resolve(e.target.result);\n",
              "      };\n",
              "      reader.readAsArrayBuffer(file);\n",
              "    });\n",
              "    // Wait for the data to be ready.\n",
              "    let fileData = yield {\n",
              "      promise: fileDataPromise,\n",
              "      response: {\n",
              "        action: 'continue',\n",
              "      }\n",
              "    };\n",
              "\n",
              "    // Use a chunked sending to avoid message size limits. See b/62115660.\n",
              "    let position = 0;\n",
              "    do {\n",
              "      const length = Math.min(fileData.byteLength - position, MAX_PAYLOAD_SIZE);\n",
              "      const chunk = new Uint8Array(fileData, position, length);\n",
              "      position += length;\n",
              "\n",
              "      const base64 = btoa(String.fromCharCode.apply(null, chunk));\n",
              "      yield {\n",
              "        response: {\n",
              "          action: 'append',\n",
              "          file: file.name,\n",
              "          data: base64,\n",
              "        },\n",
              "      };\n",
              "\n",
              "      let percentDone = fileData.byteLength === 0 ?\n",
              "          100 :\n",
              "          Math.round((position / fileData.byteLength) * 100);\n",
              "      percent.textContent = `${percentDone}% done`;\n",
              "\n",
              "    } while (position < fileData.byteLength);\n",
              "  }\n",
              "\n",
              "  // All done.\n",
              "  yield {\n",
              "    response: {\n",
              "      action: 'complete',\n",
              "    }\n",
              "  };\n",
              "}\n",
              "\n",
              "scope.google = scope.google || {};\n",
              "scope.google.colab = scope.google.colab || {};\n",
              "scope.google.colab._files = {\n",
              "  _uploadFiles,\n",
              "  _uploadFilesContinue,\n",
              "};\n",
              "})(self);\n",
              "</script> "
            ]
          },
          "metadata": {}
        }
      ]
    },
    {
      "cell_type": "markdown",
      "source": [
        "### Installing libraries"
      ],
      "metadata": {
        "id": "mGWBPt0NqWwX"
      }
    },
    {
      "cell_type": "markdown",
      "source": [
        "The following command will install libraries that are not currently installed."
      ],
      "metadata": {
        "id": "JCdzvrfVqc6z"
      }
    },
    {
      "cell_type": "code",
      "source": [
        "!pip install numpy\n",
        "#if the generative AI suggests you the code, you may press TAB to accept the suggestion."
      ],
      "metadata": {
        "colab": {
          "base_uri": "https://localhost:8080/"
        },
        "id": "4GSTyTuyqjZt",
        "outputId": "00b51f89-885e-46a2-bb0d-b9d3abf0b292"
      },
      "execution_count": null,
      "outputs": [
        {
          "output_type": "stream",
          "name": "stdout",
          "text": [
            "Requirement already satisfied: numpy in /usr/local/lib/python3.11/dist-packages (1.26.4)\n"
          ]
        }
      ]
    },
    {
      "cell_type": "markdown",
      "source": [
        "### Runtime and GPU/TPU usage"
      ],
      "metadata": {
        "id": "yg9oyfdfrBBH"
      }
    },
    {
      "cell_type": "markdown",
      "source": [
        "A ***runtime*** is a Google-provisioned virtual machine (VM) that can run the code in your notebook (IPYNB file). For any code, the notebook will use the default runtime specification.\n",
        "\n",
        "To change the runtime and use GPU/TPU in Google Colab,  \n",
        "1.\tSelect Runtime from the top drop-down menu\n",
        "2.\tSelect Change runtime type\n",
        "3.\tSelect the desired hardware accelerator (GPU/TPU) from the dropdown menu\n",
        "4.\tClick Save\n"
      ],
      "metadata": {
        "id": "otyBeYGtrEyN"
      }
    },
    {
      "cell_type": "markdown",
      "source": [
        "### Downloading and sharing the notebook"
      ],
      "metadata": {
        "id": "X0xJZpftrvik"
      }
    },
    {
      "cell_type": "markdown",
      "source": [
        "To ***download*** a Google Colab notebook, navigate to the \"File\" menu in the top left corner, then select \"Download .ipynb\" to save it locally on your computer\n",
        "\n",
        "To ***share*** a Colab notebook, click the \"Share\" button at the top right, which allows you to add collaborators by entering their email addresses or generating a shareable link.\n"
      ],
      "metadata": {
        "id": "AHMTvO4osQCb"
      }
    }
  ]
}