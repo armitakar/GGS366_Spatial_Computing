{
  "nbformat": 4,
  "nbformat_minor": 0,
  "metadata": {
    "colab": {
      "provenance": [],
      "authorship_tag": "ABX9TyOD4GCDm6hWDg24OAw9kLuP",
      "include_colab_link": true
    },
    "kernelspec": {
      "name": "python3",
      "display_name": "Python 3"
    },
    "language_info": {
      "name": "python"
    }
  },
  "cells": [
    {
      "cell_type": "markdown",
      "metadata": {
        "id": "view-in-github",
        "colab_type": "text"
      },
      "source": [
        "<a href=\"https://colab.research.google.com/github/armitakar/GGS366_Spatial_Computing/blob/main/Lectures/2_2_Basic_Python_Functions.ipynb\" target=\"_parent\"><img src=\"https://colab.research.google.com/assets/colab-badge.svg\" alt=\"Open In Colab\"/></a>"
      ]
    },
    {
      "cell_type": "markdown",
      "source": [
        "# Functions\n",
        "\n",
        "Function is a block of code to complete a set of specified tasks and return an expected output.\n",
        "\n",
        "When you call a function, it will run/execute the code within it and return the final output as defined.  \n",
        "\n",
        "Functions help:\n",
        "- Reduce redundancy: Same tasks can be performed repeatedly\n",
        "- Organize programs: Guide you through the step-by-step process\n",
        "- Improve readability: Name and description of the function summarizes what's going on inside, no need to go through the detailed.\n",
        "\n",
        ""
      ],
      "metadata": {
        "id": "uJ22ZoHYjIpm"
      }
    },
    {
      "cell_type": "markdown",
      "source": [
        "# Built-in functions\n",
        "\n",
        "There are numerous built-in functions into python. For example: print() function is a built-in function, asking Python to print an object to the terminal.\n",
        "\n",
        "Other examples include:\n",
        "- max() to get the maximum value of a list\n",
        "- len() to return the length of an object\n",
        "- int() to convert a data type to integers\n",
        "\n",
        "Built-in functions may display as a different color depending on the palette you are using (e.g., in a code cell).\n",
        "\n",
        "A full list of built-in functions and their descriptions can be found [here](https://docs.python.org/3/library/functions.html)."
      ],
      "metadata": {
        "id": "qn4kjRDBky1v"
      }
    },
    {
      "cell_type": "code",
      "source": [
        "# Examples of built-in functions in Python\n",
        "len(\"We're learning about functions\") # returning the length of an object"
      ],
      "metadata": {
        "colab": {
          "base_uri": "https://localhost:8080/"
        },
        "id": "luKWdVmNmYTD",
        "outputId": "7a553512-5e6f-4674-b081-4bbfa48946f6"
      },
      "execution_count": null,
      "outputs": [
        {
          "output_type": "execute_result",
          "data": {
            "text/plain": [
              "30"
            ]
          },
          "metadata": {},
          "execution_count": 1
        }
      ]
    },
    {
      "cell_type": "code",
      "source": [
        "# Examples of built-in functions in Python\n",
        "int(20.29) # converting a float value to integer"
      ],
      "metadata": {
        "colab": {
          "base_uri": "https://localhost:8080/"
        },
        "id": "xm1vXGpKnve6",
        "outputId": "9ccc0426-447f-4532-f910-85fd473f71af"
      },
      "execution_count": null,
      "outputs": [
        {
          "output_type": "execute_result",
          "data": {
            "text/plain": [
              "20"
            ]
          },
          "metadata": {},
          "execution_count": 2
        }
      ]
    },
    {
      "cell_type": "markdown",
      "source": [
        "# User defined functions"
      ],
      "metadata": {
        "id": "Or9_8IkqpGjJ"
      }
    },
    {
      "cell_type": "markdown",
      "source": [
        "User defined functions are functions defined by users, declared with the standard def() keyword.\n",
        "\n",
        "Here you can see the main structure of a function:\n",
        "\n",
        "![Image decription](https://miro.medium.com/v2/resize:fit:739/1*keuGvNdeNKfuLyMmdecj-Q.png)\n",
        "\n",
        "**Keyword:** declare the function using the def() keyword\n",
        "\n",
        "**Function name:** followed by def(), insert the function name, it can be anything as you want it to be.\n",
        "\n",
        "**Parameters:** the placeholder variable names that we put inside the parenthesis on the first line. These are locally defined variables that we utilize within the function.\n",
        "\n",
        "**Function body:** the set of tasks the function will perform\n",
        "\n",
        "**Return value:** the return statement is optional. But it is good to have them to define the output we wish to produce with the function."
      ],
      "metadata": {
        "id": "sIQVoLmIpKdY"
      }
    },
    {
      "cell_type": "code",
      "source": [
        "# let's start with writing a simple function\n",
        "# some functions may not have parameters at all\n",
        "def print_hello_world():\n",
        "    print(\"Hello World!\")"
      ],
      "metadata": {
        "id": "B3N0xLsMuS27"
      },
      "execution_count": null,
      "outputs": []
    },
    {
      "cell_type": "code",
      "source": [
        "# calling the function\n",
        "print_hello_world()"
      ],
      "metadata": {
        "colab": {
          "base_uri": "https://localhost:8080/"
        },
        "id": "t52zAqqzu5lL",
        "outputId": "b5066443-6c84-4bf9-a5ff-3b96a82a5e68"
      },
      "execution_count": null,
      "outputs": [
        {
          "output_type": "stream",
          "name": "stdout",
          "text": [
            "Hello World!\n"
          ]
        }
      ]
    },
    {
      "cell_type": "markdown",
      "source": [
        "Now here's a function example with parameters."
      ],
      "metadata": {
        "id": "vJ_BU2QDvNt5"
      }
    },
    {
      "cell_type": "code",
      "source": [
        "def add(name):\n",
        "    print(f\"Hello {name}!\")\n",
        "\n",
        "my_name = \"Stacy\"\n",
        "print_name(\"my_name\")"
      ],
      "metadata": {
        "id": "FZJe6susvWlH"
      },
      "execution_count": null,
      "outputs": []
    },
    {
      "cell_type": "markdown",
      "source": [
        "Notice that we add a value to the parameter to call and execute this function. This actual value that is passed to a function are called **argument**.\n",
        "\n",
        "![Image Description](https://techtipnow.in/wp-content/uploads/2021/03/argument-vs-parameter.png)"
      ],
      "metadata": {
        "id": "qjdKpZMmvhuO"
      }
    },
    {
      "cell_type": "code",
      "source": [
        "# lets try another one\n",
        "def add_numbers(num1, num2):\n",
        "    sum = num1 + num2\n",
        "    return sum\n",
        "\n",
        "a = 6\n",
        "b = 10\n",
        "\n",
        "add_numbers(a, b)"
      ],
      "metadata": {
        "colab": {
          "base_uri": "https://localhost:8080/"
        },
        "id": "VIq6-YrJxmoG",
        "outputId": "d4d142c0-68c4-497e-ba5c-a6d09085d2d8"
      },
      "execution_count": null,
      "outputs": [
        {
          "output_type": "stream",
          "name": "stdout",
          "text": [
            "16\n"
          ]
        }
      ]
    },
    {
      "cell_type": "code",
      "source": [
        "# let the user set the arguments\n",
        "def add_numbers(num1, num2):\n",
        "    sum = num1 + num2\n",
        "    return sum\n",
        "\n",
        "a = int(input(\"Enter first number: \")) # asking for user input for variable a\n",
        "b = int(input(\"Enter second number: \")) # asking for user input for variable b\n",
        "\n",
        "add_numbers(a, b)"
      ],
      "metadata": {
        "colab": {
          "base_uri": "https://localhost:8080/"
        },
        "id": "jkGzsXg5yD8a",
        "outputId": "f7fcb309-757d-44cf-d6b2-d3b15bd951f7"
      },
      "execution_count": 1,
      "outputs": [
        {
          "name": "stdout",
          "output_type": "stream",
          "text": [
            "Enter first number: 4\n",
            "Enter second number: 5\n"
          ]
        },
        {
          "output_type": "execute_result",
          "data": {
            "text/plain": [
              "9"
            ]
          },
          "metadata": {},
          "execution_count": 1
        }
      ]
    },
    {
      "cell_type": "markdown",
      "source": [
        "### Default arguments\n",
        "\n",
        "You can set a **default argument value** to the parameters using the equal sign (=). If no argument value is passed during the function call, it will use this default value.  "
      ],
      "metadata": {
        "id": "5uqMYqe2yjtq"
      }
    },
    {
      "cell_type": "code",
      "source": [
        "# calculate exponents of the base value\n",
        "def calculate_power(base, exp = 2):\n",
        "    return base ** exp\n",
        "\n",
        "a = 6\n",
        "calculate_power(a)"
      ],
      "metadata": {
        "colab": {
          "base_uri": "https://localhost:8080/"
        },
        "id": "eCzeuCUnyjYE",
        "outputId": "7d10f471-d15c-4655-f4f9-b3c136b8ee9a"
      },
      "execution_count": null,
      "outputs": [
        {
          "output_type": "execute_result",
          "data": {
            "text/plain": [
              "36"
            ]
          },
          "metadata": {},
          "execution_count": 15
        }
      ]
    },
    {
      "cell_type": "markdown",
      "source": [
        "### Keyword arguments\n",
        "\n",
        "Typically, argument value needs to be passed in the same order as the parameters are defined in the function. However, you can pass arguments to a function by explicitly specifying the parameter name along with its value, no need to maintain positional order."
      ],
      "metadata": {
        "id": "RLdqD6aMzr0A"
      }
    },
    {
      "cell_type": "code",
      "source": [
        "def calculate_power(base, exp):\n",
        "    return base ** exp\n",
        "\n",
        "base_value = 3\n",
        "exp_value = 2\n",
        "calculate_power(base_value, exp_value) # parameter order has to be the same"
      ],
      "metadata": {
        "colab": {
          "base_uri": "https://localhost:8080/"
        },
        "id": "8Opx_Wdl0Dbm",
        "outputId": "8b8cf273-f045-4878-bd99-2cc5b56c2478"
      },
      "execution_count": null,
      "outputs": [
        {
          "output_type": "execute_result",
          "data": {
            "text/plain": [
              "9"
            ]
          },
          "metadata": {},
          "execution_count": 17
        }
      ]
    },
    {
      "cell_type": "code",
      "source": [
        "def calculate_power(base, exp):\n",
        "    return base ** exp\n",
        "\n",
        "base_value = 3\n",
        "exp_value = 2\n",
        "calculate_power(exp = exp_value, base = base_value) # parameter orders changed, but defined with parameter names"
      ],
      "metadata": {
        "colab": {
          "base_uri": "https://localhost:8080/"
        },
        "id": "smf5xv9Q0t4o",
        "outputId": "7d075996-4394-421d-af46-d79269d602e0"
      },
      "execution_count": null,
      "outputs": [
        {
          "output_type": "execute_result",
          "data": {
            "text/plain": [
              "9"
            ]
          },
          "metadata": {},
          "execution_count": 18
        }
      ]
    },
    {
      "cell_type": "markdown",
      "source": [
        "### Calling functions within a function\n",
        " You can call any built-in or user-defined functions within a function."
      ],
      "metadata": {
        "id": "nxlSm_lB04t2"
      }
    },
    {
      "cell_type": "code",
      "source": [
        "def calculate_power(base, exp):\n",
        "  sum_val = add_numbers(base, base) # adding the base value twice\n",
        "  return sum_val ** exp             # return the exponent of sum value\n",
        "\n",
        "base_value = 3\n",
        "exp_value = 2\n",
        "\n",
        "calculate_power(base_value, exp_value)"
      ],
      "metadata": {
        "colab": {
          "base_uri": "https://localhost:8080/"
        },
        "id": "r8dAvANp1Cjh",
        "outputId": "a0d5ee1e-2f13-4cb3-e486-3a9935d1458c"
      },
      "execution_count": null,
      "outputs": [
        {
          "output_type": "execute_result",
          "data": {
            "text/plain": [
              "36"
            ]
          },
          "metadata": {},
          "execution_count": 21
        }
      ]
    },
    {
      "cell_type": "markdown",
      "source": [
        "# Docstrings"
      ],
      "metadata": {
        "id": "-LjvG6Lo1s4R"
      }
    },
    {
      "cell_type": "markdown",
      "source": [
        "A docstring is the first statement in a module, function, class, or method definition.\n",
        "\n",
        "All functions should normally have docstrings.\n",
        "\n",
        "It is recommended you cover:\n",
        "\n",
        "- A generalized description of the function.\n",
        "- Description of the parameters.\n",
        "- Description of the returned variables.\n",
        "- Notes on the method.\n",
        "- Examples of the function use.\n",
        "\n",
        "Below is an example of a function for computing the Haversine distance."
      ],
      "metadata": {
        "id": "woSB4IKy1vsm"
      }
    },
    {
      "cell_type": "code",
      "source": [
        "import numpy as np\n",
        "\n",
        "def haversine_distance(coord1, coord2):\n",
        "    \"\"\"\n",
        "    Function for calculating Haversine distance between two points.\n",
        "\n",
        "    The Haversine formula calculates the great-circle distance between\n",
        "    two points, which is the shortest distance over the Earth's surface.\n",
        "    The function assumes the Earth is a perfect sphere, which is a\n",
        "    reasonable approximation for small distances.\n",
        "\n",
        "    Parameters\n",
        "    ----------\n",
        "    coord1 : tuple of float\n",
        "        A tuple representing the latitude and longitude of the first\n",
        "        point (in decimal degrees).\n",
        "        Example: (latitude1, longitude1).\n",
        "    coord2 : tuple of float\n",
        "        A tuple representing the latitude and longitude of the second\n",
        "        point (in decimal degrees).\n",
        "        Example: (latitude2, longitude2).\n",
        "\n",
        "    Returns\n",
        "    -------\n",
        "    float\n",
        "        The Haversine distance between the two points in kilometers.\n",
        "\n",
        "    Notes\n",
        "    -----\n",
        "    The formula used is:\n",
        "\n",
        "        a = sin²(Δφ / 2) + cos(φ1) * cos(φ2) * sin²(Δλ / 2)\n",
        "        c = 2 * atan2( √a, √(1−a) )\n",
        "        d = R * c\n",
        "\n",
        "    Where:\n",
        "        - φ1, φ2: latitudes in radians of points 1 and 2\n",
        "        - Δφ : difference in latitudes\n",
        "        - Δλ : difference in longitudes\n",
        "        - R : Earth's radius (mean radius = 6,371 km)\n",
        "\n",
        "    Examples\n",
        "    --------\n",
        "    >>> haversine_distance((38.8977, -77.0365), (40.7486, -73.9864))\n",
        "    328.279 km\n",
        "\n",
        "    \"\"\"\n",
        "    R = 6371.0  # Earth’s radius in kilometers\n",
        "\n",
        "    lat1, lon1 = np.radians(coord1)\n",
        "    lat2, lon2 = np.radians(coord2)\n",
        "\n",
        "    dlat = lat2 - lat1\n",
        "    dlon = lon2 - lon1\n",
        "\n",
        "    a = np.sin(dlat / 2)**2 + np.cos(lat1) * np.cos(lat2) * np.sin(dlon / 2)**2\n",
        "    c = 2 * np.arctan2(np.sqrt(a), np.sqrt(1 - a))\n",
        "\n",
        "    distance = R * c\n",
        "    return distance\n",
        "\n",
        "gmu_fairfax = (38.82975, -77.305306)\n",
        "gmu_arlington = (38.885083,-77.100977)\n",
        "\n",
        "distance = haversine_distance(gmu_fairfax, gmu_arlington)\n",
        "print(f\"The distance between the two points is {distance:.2f} kilometers.\")"
      ],
      "metadata": {
        "id": "LxC_DaF-28LS"
      },
      "execution_count": null,
      "outputs": []
    }
  ]
}