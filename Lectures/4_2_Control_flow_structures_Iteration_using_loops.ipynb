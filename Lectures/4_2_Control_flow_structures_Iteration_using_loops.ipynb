{
  "nbformat": 4,
  "nbformat_minor": 0,
  "metadata": {
    "colab": {
      "provenance": [],
      "authorship_tag": "ABX9TyMJfUJdBT/w22QJj29Q6O0K",
      "include_colab_link": true
    },
    "kernelspec": {
      "name": "python3",
      "display_name": "Python 3"
    },
    "language_info": {
      "name": "python"
    }
  },
  "cells": [
    {
      "cell_type": "markdown",
      "metadata": {
        "id": "view-in-github",
        "colab_type": "text"
      },
      "source": [
        "<a href=\"https://colab.research.google.com/github/armitakar/GGS366_Spatial_Computing/blob/main/Lectures/4_2_Control_flow_structures_Iteration_using_loops.ipynb\" target=\"_parent\"><img src=\"https://colab.research.google.com/assets/colab-badge.svg\" alt=\"Open In Colab\"/></a>"
      ]
    },
    {
      "cell_type": "markdown",
      "source": [
        "**Iteration** is the process of repeatedly performing the same action on different data values. In Python, loops are used to facilitate iteration.\n",
        "\n",
        "So we could define a set of processing instructions for our data, and then via iteration, we could use a Python loop to feed each element in our dataset one-by-one through these steps. Sometimes we might specify that we want the iteration process to continue until a pre-defined condition is met (at which point the loop ceases).\n",
        "\n",
        "The two most commonly used loop structures are: *for* and *while* loop\n"
      ],
      "metadata": {
        "id": "feBpp5rAad7_"
      }
    },
    {
      "cell_type": "markdown",
      "source": [
        "# For loop"
      ],
      "metadata": {
        "id": "yuyLijfh0P8x"
      }
    },
    {
      "cell_type": "markdown",
      "source": [
        "A ***for*** loop allows us to execute a set of actions on each item in a sequence (such as lists, tuples, or strings).\n",
        "\n",
        "The loop goes through the sequence one item at a time and check for the Last Item:\n",
        "- If it’s not the last item, the loop executes the action on the current item and then moves to the next item.\n",
        "- If it is the last item, the loop stops.\n",
        "\n",
        "This process ensures that every item in the sequence is processed unless a condition (like a break statement) interrupts the loop.\n",
        "\n",
        "![loop](https://miro.medium.com/v2/resize:fit:916/0*E1zsmJf8iM53Iery.png)\n"
      ],
      "metadata": {
        "id": "KWIe48Sd0THE"
      }
    },
    {
      "cell_type": "markdown",
      "source": [
        "### *For* loop structure in Python\n",
        "- The *for* loop begins with the term ***for***.\n",
        "- We then specify our **iterator**, that helps us navigate to the specific item we are dealing with in the respective iteration step. Python allows this to be user-defined (e.g., ***i*** ).\n",
        "- Next, we need to specify that this iterator will be iterating ***in*** the following sequence.\n",
        "- Finally, we specify the ***sequence data structure*** we want to iterate with. In addition to sequence data structures like lists, tuples, and strings, we can also use the ***range()*** function to iterate over a list of numbers within a *for* loop. This built-in function takes a start, stop, and step value and returns an immutable sequence of numbers. Within range function:\n",
        "  - If you do not provide a start value, it defaults to zero.\n",
        "  - If you do not provide a step value, it defaults to one.\n",
        "  - The start number is included and the end number is excluded\n",
        "\n",
        "You can find more details about the range() function here: https://docs.python.org/3/library/stdtypes.html#typesseq-range\n"
      ],
      "metadata": {
        "id": "Y8yd4THaKVC1"
      }
    },
    {
      "cell_type": "code",
      "execution_count": 75,
      "metadata": {
        "colab": {
          "base_uri": "https://localhost:8080/"
        },
        "id": "W0q8pMEfaXun",
        "outputId": "eab1a90e-108d-4d36-dd2b-186a90040c18"
      },
      "outputs": [
        {
          "output_type": "stream",
          "name": "stdout",
          "text": [
            "1\n",
            "2\n",
            "3\n",
            "4\n",
            "5\n",
            "6\n",
            "7\n",
            "8\n",
            "9\n"
          ]
        }
      ],
      "source": [
        "# printing the numbers between 1 (included) and 10 (excluded)\n",
        "# step value not defined, defaulting to 1\n",
        "for i in range(1, 10):\n",
        "    print(i)"
      ]
    },
    {
      "cell_type": "code",
      "source": [
        "# instead of using i you could have used anything\n",
        "for each_item in range(1, 10):\n",
        "    print(each_item)"
      ],
      "metadata": {
        "colab": {
          "base_uri": "https://localhost:8080/"
        },
        "id": "4h6t9_-DDNAr",
        "outputId": "f36906d8-3916-4144-a76c-5b55751fddc2"
      },
      "execution_count": 76,
      "outputs": [
        {
          "output_type": "stream",
          "name": "stdout",
          "text": [
            "1\n",
            "2\n",
            "3\n",
            "4\n",
            "5\n",
            "6\n",
            "7\n",
            "8\n",
            "9\n"
          ]
        }
      ]
    },
    {
      "cell_type": "code",
      "source": [
        "# printing the numbers upto 5\n",
        "# start value not defined, defaulting to 0\n",
        "# step value not defined, defaulting to 1\n",
        "for i in range(5):\n",
        "    print(i)"
      ],
      "metadata": {
        "colab": {
          "base_uri": "https://localhost:8080/"
        },
        "id": "JLexMD6NOQnB",
        "outputId": "dc36a494-42ed-467a-92d5-6cbc6261a758"
      },
      "execution_count": 77,
      "outputs": [
        {
          "output_type": "stream",
          "name": "stdout",
          "text": [
            "0\n",
            "1\n",
            "2\n",
            "3\n",
            "4\n"
          ]
        }
      ]
    },
    {
      "cell_type": "code",
      "source": [
        "# printing the numbers between 20 (included) and 100 (excluded) with a step value of 10\n",
        "for i in range(20, 100, 10):\n",
        "    print(i)"
      ],
      "metadata": {
        "colab": {
          "base_uri": "https://localhost:8080/"
        },
        "id": "UWKCCMBqNwON",
        "outputId": "760cb6e5-6325-483f-e8ad-d99e1e04749b"
      },
      "execution_count": 78,
      "outputs": [
        {
          "output_type": "stream",
          "name": "stdout",
          "text": [
            "20\n",
            "30\n",
            "40\n",
            "50\n",
            "60\n",
            "70\n",
            "80\n",
            "90\n"
          ]
        }
      ]
    },
    {
      "cell_type": "markdown",
      "source": [
        "Now let's try using a *for* loop to iterate over a list."
      ],
      "metadata": {
        "id": "TFURc7ZUOyx2"
      }
    },
    {
      "cell_type": "code",
      "source": [
        "# we have a list of cities here\n",
        "list_of_cities = [\"New York\", \"Los Angeles\", \"Chicago\", \"Houston\", \"Phoenix\"]\n",
        "\n",
        "# iterating over each item in the list and printing the city name\n",
        "for city in list_of_cities:\n",
        "    print(f\"The city name is {city}\")"
      ],
      "metadata": {
        "colab": {
          "base_uri": "https://localhost:8080/"
        },
        "id": "JcCc8FXXO7OU",
        "outputId": "ad93b0bf-99f8-499b-cd5e-b9d63a040182"
      },
      "execution_count": 79,
      "outputs": [
        {
          "output_type": "stream",
          "name": "stdout",
          "text": [
            "The city name is New York\n",
            "The city name is Los Angeles\n",
            "The city name is Chicago\n",
            "The city name is Houston\n",
            "The city name is Phoenix\n"
          ]
        }
      ]
    },
    {
      "cell_type": "markdown",
      "source": [
        "What if we want to iterate over multiple lists within the same loop? The range() function can be very handy in this case, as it allows us to iterate through the lists based on their index values."
      ],
      "metadata": {
        "id": "Z8HqFTblPW1R"
      }
    },
    {
      "cell_type": "code",
      "source": [
        "# we have two lists: cities and respective population size\n",
        "list_of_cities = [\"New York\", \"Los Angeles\", \"Chicago\", \"Houston\", \"Phoenix\"]\n",
        "list_of_population = [8175133, 3792621, 2695598, 2129784, 1445632]\n",
        "\n",
        "# Use range() to iterate by index\n",
        "for i in range(len(list_of_cities)): # for each index values in list of cities\n",
        "    city = list_of_cities[i]\n",
        "    population = list_of_population[i]\n",
        "    print(f\"The city name is {city}, and its population is {population}.\")"
      ],
      "metadata": {
        "colab": {
          "base_uri": "https://localhost:8080/"
        },
        "id": "18xeGF6FP2b8",
        "outputId": "b3e23fec-22ae-49ca-c485-055433398a71"
      },
      "execution_count": 80,
      "outputs": [
        {
          "output_type": "stream",
          "name": "stdout",
          "text": [
            "The city name is New York, and its population is 8175133.\n",
            "The city name is Los Angeles, and its population is 3792621.\n",
            "The city name is Chicago, and its population is 2695598.\n",
            "The city name is Houston, and its population is 2129784.\n",
            "The city name is Phoenix, and its population is 1445632.\n"
          ]
        }
      ]
    },
    {
      "cell_type": "markdown",
      "source": [
        "Similarly, *for* loops can also iterate over a tuple."
      ],
      "metadata": {
        "id": "ZfM7xqjTQiVs"
      }
    },
    {
      "cell_type": "code",
      "source": [
        "# Tuple containing capital names\n",
        "tuple_of_capitals = (\"Paris\", \"Berlin\", \"Madrid\", \"Rome\")\n",
        "\n",
        "# looping through the tuple to print capital names\n",
        "for capital in tuple_of_capitals:\n",
        "    print(f\"The capital city is {capital}\")"
      ],
      "metadata": {
        "colab": {
          "base_uri": "https://localhost:8080/"
        },
        "id": "6PwDowBeR8Nx",
        "outputId": "aec0e99a-8310-4875-e3c2-e320721c64b4"
      },
      "execution_count": 81,
      "outputs": [
        {
          "output_type": "stream",
          "name": "stdout",
          "text": [
            "The capital city is Paris\n",
            "The capital city is Berlin\n",
            "The capital city is Madrid\n",
            "The capital city is Rome\n"
          ]
        }
      ]
    },
    {
      "cell_type": "markdown",
      "source": [
        "You can also iterate over a list of tuples. Note that we provide **multiple iterators**, each representing an item in the tuple, and the for loop processes one tuple at a time."
      ],
      "metadata": {
        "id": "ivZptluqSWtq"
      }
    },
    {
      "cell_type": "code",
      "source": [
        "# List containing tuples with country, capital, and population\n",
        "country_capitals_population = [\n",
        "    (\"France\", \"Paris\", 2148327),\n",
        "    (\"Germany\", \"Berlin\", 3769495),\n",
        "    (\"Spain\", \"Madrid\", 3223334),\n",
        "    (\"Italy\", \"Rome\", 2872800)\n",
        "]\n",
        "\n",
        "# Loop through each tuple and print country, capital, and population\n",
        "for country, capital, population in country_capitals_population:\n",
        "    print(f\"The capital of {country} is {capital}, and its population is {population}.\")"
      ],
      "metadata": {
        "colab": {
          "base_uri": "https://localhost:8080/"
        },
        "id": "6CigYyaaSaqa",
        "outputId": "c98514ca-f226-46fa-b298-66de09b398f4"
      },
      "execution_count": 82,
      "outputs": [
        {
          "output_type": "stream",
          "name": "stdout",
          "text": [
            "The capital of France is Paris, and its population is 2148327.\n",
            "The capital of Germany is Berlin, and its population is 3769495.\n",
            "The capital of Spain is Madrid, and its population is 3223334.\n",
            "The capital of Italy is Rome, and its population is 2872800.\n"
          ]
        }
      ]
    },
    {
      "cell_type": "markdown",
      "source": [
        "However, to iterate over a dictionary, as we have key-value pairs, we must do something slightly different via the items() function. We provide two iterators here, each presenting a key-value pair, and the for loop iterates one key-value pair at a time."
      ],
      "metadata": {
        "id": "zezaseeCS5mu"
      }
    },
    {
      "cell_type": "code",
      "source": [
        "# Dictionary containing country and capital names\n",
        "dict_of_capitals = {\n",
        "    \"France\": \"Paris\",\n",
        "    \"Germany\": \"Berlin\",\n",
        "    \"Spain\": \"Madrid\",\n",
        "    \"Italy\": \"Rome\"\n",
        "}\n",
        "\n",
        "# loop printing each country and capital name\n",
        "for key, value in dict_of_capitals.items():\n",
        "    print(f\"The capital of {key} is {value}\")"
      ],
      "metadata": {
        "colab": {
          "base_uri": "https://localhost:8080/"
        },
        "id": "UMMVSh7MU7G4",
        "outputId": "661c1273-7bcf-4fad-e82b-86ab62aab6c7"
      },
      "execution_count": 83,
      "outputs": [
        {
          "output_type": "stream",
          "name": "stdout",
          "text": [
            "The capital of France is Paris\n",
            "The capital of Germany is Berlin\n",
            "The capital of Spain is Madrid\n",
            "The capital of Italy is Rome\n"
          ]
        }
      ]
    },
    {
      "cell_type": "markdown",
      "source": [
        "You can use .keys() and .values() functions to solely print keys or values."
      ],
      "metadata": {
        "id": "kHz8XOBLVZf5"
      }
    },
    {
      "cell_type": "code",
      "source": [
        "# loop printing each country name (keys)\n",
        "for key in dict_of_capitals.keys():\n",
        "    print(f\"Country name: {key}\")\n"
      ],
      "metadata": {
        "colab": {
          "base_uri": "https://localhost:8080/"
        },
        "id": "De2vNmgsVh-o",
        "outputId": "a208aebf-3a8b-4319-815e-f76e0d7d9693"
      },
      "execution_count": 84,
      "outputs": [
        {
          "output_type": "stream",
          "name": "stdout",
          "text": [
            "Country name: France\n",
            "Country name: Germany\n",
            "Country name: Spain\n",
            "Country name: Italy\n"
          ]
        }
      ]
    },
    {
      "cell_type": "code",
      "source": [
        "# loop printing each capital name (values)\n",
        "for value in dict_of_capitals.values():\n",
        "    print(f\"Capital name: {value}\")"
      ],
      "metadata": {
        "colab": {
          "base_uri": "https://localhost:8080/"
        },
        "id": "QN1gSgXoV6OE",
        "outputId": "80014eb4-1256-480c-82f0-c31bf26f456f"
      },
      "execution_count": 85,
      "outputs": [
        {
          "output_type": "stream",
          "name": "stdout",
          "text": [
            "Capital name: Paris\n",
            "Capital name: Berlin\n",
            "Capital name: Madrid\n",
            "Capital name: Rome\n"
          ]
        }
      ]
    },
    {
      "cell_type": "markdown",
      "source": [
        "It is also possible to iterate over a string, if we want to, iterating over one character at a time (although we will use this less frequently, than the iteration approach for lists and dicts)."
      ],
      "metadata": {
        "id": "TqGhfvTyWK2Q"
      }
    },
    {
      "cell_type": "code",
      "source": [
        "# Iterating over a string\n",
        "my_string ='iterating a string'\n",
        "for i in my_string:\n",
        "  print(i)"
      ],
      "metadata": {
        "colab": {
          "base_uri": "https://localhost:8080/"
        },
        "id": "Mbfy0SMHWLuL",
        "outputId": "edfadb18-4236-4616-de1b-8f5d172acbec"
      },
      "execution_count": 86,
      "outputs": [
        {
          "output_type": "stream",
          "name": "stdout",
          "text": [
            "i\n",
            "t\n",
            "e\n",
            "r\n",
            "a\n",
            "t\n",
            "i\n",
            "n\n",
            "g\n",
            " \n",
            "a\n",
            " \n",
            "s\n",
            "t\n",
            "r\n",
            "i\n",
            "n\n",
            "g\n"
          ]
        }
      ]
    },
    {
      "cell_type": "markdown",
      "source": [
        "### List comprehension"
      ],
      "metadata": {
        "id": "GYi1IaEja-VM"
      }
    },
    {
      "cell_type": "markdown",
      "source": [
        "You can append values to a list using *for* loops."
      ],
      "metadata": {
        "id": "1fTlfLALbj1P"
      }
    },
    {
      "cell_type": "code",
      "source": [
        "# here's an empty list\n",
        "squares = []\n",
        "\n",
        "# adding square values of numbers between 0-10\n",
        "for i in range(11):\n",
        "    squares.append(i**2)\n",
        "\n",
        "print(squares)"
      ],
      "metadata": {
        "colab": {
          "base_uri": "https://localhost:8080/"
        },
        "id": "FrLrdvHGbqBf",
        "outputId": "075322dd-c408-4094-d46b-64e54cfef071"
      },
      "execution_count": 87,
      "outputs": [
        {
          "output_type": "stream",
          "name": "stdout",
          "text": [
            "[0, 1, 4, 9, 16, 25, 36, 49, 64, 81, 100]\n"
          ]
        }
      ]
    },
    {
      "cell_type": "markdown",
      "source": [
        "You can achieve the same result in a single line, making the code more concise and readable. This technique is known as list comprehension."
      ],
      "metadata": {
        "id": "LqbYF7wTbEQX"
      }
    },
    {
      "cell_type": "code",
      "source": [
        "squares = [i**2 for i in range(11)] # first we provide the action code then the for statement\n",
        "print(squares)"
      ],
      "metadata": {
        "colab": {
          "base_uri": "https://localhost:8080/"
        },
        "id": "CEqM0b6vcXH9",
        "outputId": "71175ad2-3ee9-41a6-a051-ff647fd4b086"
      },
      "execution_count": 88,
      "outputs": [
        {
          "output_type": "stream",
          "name": "stdout",
          "text": [
            "[0, 1, 4, 9, 16, 25, 36, 49, 64, 81, 100]\n"
          ]
        }
      ]
    },
    {
      "cell_type": "markdown",
      "source": [
        "You can also add conditional statement within list comprehension."
      ],
      "metadata": {
        "id": "-43LqBrFcx5L"
      }
    },
    {
      "cell_type": "code",
      "source": [
        "# Creating a List of Even Numbers\n",
        "evens = [i for i in range(1, 21) if i % 2 == 0] # first we provide the action code, then the for statement, and then if conditions\n",
        "print(evens)"
      ],
      "metadata": {
        "colab": {
          "base_uri": "https://localhost:8080/"
        },
        "id": "dU-D4mPtc2eV",
        "outputId": "bc48a265-3621-46d1-a35c-f8fddb15e826"
      },
      "execution_count": 89,
      "outputs": [
        {
          "output_type": "stream",
          "name": "stdout",
          "text": [
            "[2, 4, 6, 8, 10, 12, 14, 16, 18, 20]\n"
          ]
        }
      ]
    },
    {
      "cell_type": "markdown",
      "source": [
        "If we have both if-else statement, then we provide the statements first then loop controls."
      ],
      "metadata": {
        "id": "D9AhG-QME2e8"
      }
    },
    {
      "cell_type": "code",
      "source": [
        "# Replacing Negative Numbers with Zero\n",
        "numbers = [10, -5, 20, -3, 15, -8, 25]\n",
        "processed_numbers = [num if num >= 0 else 0 for num in numbers]\n",
        "print(processed_numbers)"
      ],
      "metadata": {
        "colab": {
          "base_uri": "https://localhost:8080/"
        },
        "id": "d2Dkjhpkc-C1",
        "outputId": "ad57450f-5011-4ff4-b2f2-f0482f390ff5"
      },
      "execution_count": 90,
      "outputs": [
        {
          "output_type": "stream",
          "name": "stdout",
          "text": [
            "[10, 0, 20, 0, 15, 0, 25]\n"
          ]
        }
      ]
    },
    {
      "cell_type": "markdown",
      "source": [
        "# While loop"
      ],
      "metadata": {
        "id": "B3IqMA6o0aWh"
      }
    },
    {
      "cell_type": "markdown",
      "source": [
        "A ***while*** loop allows us to repeatedly execute a set of actions as long as a specified condition remains true. Unlike a *for* loop, which runs for a fixed number of items, a while loop continues until a condition is no longer met.\n",
        "\n",
        "A while loop starts with the term ***while***, followed by a condition that determines when the loop should continue. Then we enter the loop and test the condition:\n",
        "- If the condition is true, execute the code inside the loop. Once done, update any necessary variables and recheck the condition.\n",
        "- If the condition is false, stop the loop.\n",
        "\n",
        "This allows the loop to run indefinitely until the stopping condition is met.\n",
        "\n",
        "\n",
        "![while loop](https://www.programiz.com/sites/tutorial2program/files/python-while-loop.png)"
      ],
      "metadata": {
        "id": "oDYINLgK0d1S"
      }
    },
    {
      "cell_type": "markdown",
      "source": [
        "Here's an example. Let’s say we have a variable named *i*. We want to print the value of *i* as long as it is less than 10.\n",
        "\n",
        "1. First, we initialize *i* with a starting value (e.g., 3).\n",
        "2. Then, we use a while loop to check if *i* is less than 10. If true, the loop continues.\n",
        "3. Inside the loop, we print *i* and increment *i* by 1 using the += operator.\n",
        "  - The += operator takes the current value of *i* and adds the specified amount (in this case, 1).\n",
        "4. The loop stops once *i* reaches 10."
      ],
      "metadata": {
        "id": "S7QoUMH2Yd2_"
      }
    },
    {
      "cell_type": "code",
      "source": [
        "i = 3  # Initial value\n",
        "\n",
        "while i < 10:  # Condition: Run while i is less than 10\n",
        "    print(i)  # Print the current value of i\n",
        "    i += 1  # Increment i by 1"
      ],
      "metadata": {
        "colab": {
          "base_uri": "https://localhost:8080/"
        },
        "id": "xOLvxpUrX01A",
        "outputId": "d19e5deb-23f9-4e75-ab1b-8fa9c3a2ac12"
      },
      "execution_count": 91,
      "outputs": [
        {
          "output_type": "stream",
          "name": "stdout",
          "text": [
            "3\n",
            "4\n",
            "5\n",
            "6\n",
            "7\n",
            "8\n",
            "9\n"
          ]
        }
      ]
    },
    {
      "cell_type": "markdown",
      "source": [
        "Here's another example. We're creating a list that contains all the odd numbers between 1 to 25."
      ],
      "metadata": {
        "id": "pU42mjiraYbR"
      }
    },
    {
      "cell_type": "code",
      "source": [
        "# Initialize an empty list\n",
        "odd_numbers = []\n",
        "\n",
        "# Start from the first odd number (1)\n",
        "i = 1\n",
        "\n",
        "# Use while loop to iterate until 25\n",
        "while i <= 25:\n",
        "    odd_numbers.append(i)  # Add the current odd number to the list\n",
        "    i += 2  # Increment by 2 to get the next odd number\n",
        "\n",
        "# Print the final list\n",
        "print(odd_numbers)"
      ],
      "metadata": {
        "colab": {
          "base_uri": "https://localhost:8080/"
        },
        "id": "pKbi2RBWaqOd",
        "outputId": "301cc901-cb8a-4dbd-ac46-73aa2bd3bad9"
      },
      "execution_count": 92,
      "outputs": [
        {
          "output_type": "stream",
          "name": "stdout",
          "text": [
            "[1, 3, 5, 7, 9, 11, 13, 15, 17, 19, 21, 23, 25]\n"
          ]
        }
      ]
    },
    {
      "cell_type": "markdown",
      "source": [
        "# Loop control"
      ],
      "metadata": {
        "id": "jTybqCLsoRLt"
      }
    },
    {
      "cell_type": "markdown",
      "source": [
        "We have a few options to help us control a loop, including using continue, break, etc.\n",
        "\n",
        "- **continue** indicates that if some condition is met, the loop should skip to the next iteration.\n",
        "- **break** indicates that if some condition is met, we want to stop iterating."
      ],
      "metadata": {
        "id": "uyvEd7ImoJ1x"
      }
    },
    {
      "cell_type": "markdown",
      "source": [
        "Here's an example of the continue statement. For instance, we want to create a list that contains first 10 multiples of 3."
      ],
      "metadata": {
        "id": "fMaEbmgRqP2w"
      }
    },
    {
      "cell_type": "code",
      "source": [
        "multiples_of_3 = []  # Initialize an empty list to store multiples of 3\n",
        "\n",
        "i = 3  # Start with 3, as it is the first multiple of 3\n",
        "\n",
        "while True:  # Infinite loop to continuously check numbers\n",
        "    # Check if 'i' is not a multiple of 3\n",
        "    if i % 3 != 0:\n",
        "        i += 1  # Increment 'i' to check the next number\n",
        "        continue  # Skip the rest of the loop and start the next iteration\n",
        "\n",
        "    # Stop the loop once we have collected 10 multiples of 3\n",
        "    if len(multiples_of_3) == 10:\n",
        "        break\n",
        "\n",
        "    # If the above conditions are not met, add 'i' to the list\n",
        "    multiples_of_3.append(i)\n",
        "\n",
        "    # Increment 'i' to check the next number\n",
        "    i += 1\n",
        "\n",
        "print(multiples_of_3)  # Print the list of the first 10 multiples of 3"
      ],
      "metadata": {
        "colab": {
          "base_uri": "https://localhost:8080/"
        },
        "id": "a02RHHw6qlUw",
        "outputId": "64d63f21-d6d4-434c-f97b-64b3e082b50d"
      },
      "execution_count": 94,
      "outputs": [
        {
          "output_type": "stream",
          "name": "stdout",
          "text": [
            "[3, 6, 9, 12, 15, 18, 21, 24, 27, 30]\n"
          ]
        }
      ]
    },
    {
      "cell_type": "markdown",
      "source": [
        "Remember the classify_heat_index() function we defined in the previous lecture? The break statement can be useful for repeatedly prompting the user until they provide a valid numeric input."
      ],
      "metadata": {
        "id": "IHG-0Urio0rd"
      }
    },
    {
      "cell_type": "code",
      "source": [
        "### This is the function we had\n",
        "def classify_heat_index():\n",
        "    \"\"\"\n",
        "    Classifies the heat index value into risk categories and provides safety advice.\n",
        "\n",
        "    Returns:\n",
        "        str: Risk category and safety message.\n",
        "    \"\"\"\n",
        "    heat_index = int(input(\"Enter today's heat index value: \"))\n",
        "    if heat_index < 80:\n",
        "        category = \"Caution\"\n",
        "        message = \"It's generally safe to go outside, but stay hydrated.\"\n",
        "    elif 80 <= heat_index < 90:\n",
        "        category = \"Moderate Risk\"\n",
        "        message = \"It may feel warm. Take breaks in the shade and drink water.\"\n",
        "    elif 90 <= heat_index < 103:\n",
        "        category = \"High Risk\"\n",
        "        message = \"Prolonged exposure can lead to heat-related illness. Limit outdoor activities.\"\n",
        "    elif 103 <= heat_index < 125:\n",
        "        category = \"Extreme Risk\"\n",
        "        message = \"Heat exhaustion or heat stroke is possible. Avoid outdoor activities.\"\n",
        "    else:\n",
        "        category = \"Dangerous\"\n",
        "        message = \"Extreme heat conditions! Stay indoors and stay cool.\"\n",
        "\n",
        "    return f\"Risk Level: {category}\", f\"Advice: {message}\""
      ],
      "metadata": {
        "id": "UOqO98XWd7vJ"
      },
      "execution_count": null,
      "outputs": []
    },
    {
      "cell_type": "code",
      "source": [
        "while True: # loop will run until inside break conditions are met\n",
        "  try:\n",
        "      print(classify_heat_index())\n",
        "      break # break the loop if the function runs successfully\n",
        "  except ValueError:\n",
        "      print(\"Invalid input. Please enter a numerical value.\")\n"
      ],
      "metadata": {
        "colab": {
          "base_uri": "https://localhost:8080/"
        },
        "id": "b5Xj7ub7i4Ox",
        "outputId": "1ba10c08-bad1-4943-a17c-836e201aafda"
      },
      "execution_count": 93,
      "outputs": [
        {
          "output_type": "stream",
          "name": "stdout",
          "text": [
            "Enter today's heat index value: hot\n",
            "Invalid input. Please enter a numerical value.\n",
            "Enter today's heat index value: cold\n",
            "Invalid input. Please enter a numerical value.\n",
            "Enter today's heat index value: too hot\n",
            "Invalid input. Please enter a numerical value.\n",
            "Enter today's heat index value: 95\n",
            "('Risk Level: High Risk', 'Advice: Prolonged exposure can lead to heat-related illness. Limit outdoor activities.')\n"
          ]
        }
      ]
    }
  ]
}